{
 "cells": [
  {
   "cell_type": "code",
   "execution_count": 2,
   "metadata": {},
   "outputs": [
    {
     "name": "stdout",
     "output_type": "stream",
     "text": [
      "                        _id  \\\n",
      "0  5a5b6dfbaf6c59001a536aeb   \n",
      "1  5a5b70abaf6c59001a536b07   \n",
      "2  5a5b729faf6c59001a536b13   \n",
      "3  5a5b7ae5af6c59001a536b80   \n",
      "4  5a5b7d07af6c59001a536b87   \n",
      "\n",
      "                                              review  score university  \\\n",
      "0  interessantes aber sehr aufwändiges Fach. Die ...      3        UZH   \n",
      "1  Warum wird Moodle Verwendet & nicht OLAT?\\nAns...      4        UZH   \n",
      "2  langwiilig, Management teil nutzlos, nur uswän...      2        UZH   \n",
      "3  In diesem Fach zeichnet man Flowcharts und Pro...      3        UZH   \n",
      "4  weiss nöd warum so viel klaget. de dozent isch...      5        UZH   \n",
      "\n",
      "     course  upvotes  downvotes           date  \\\n",
      "0  50314925      0.0        1.0  1562135719091   \n",
      "1  50038004      4.0        8.0  1538035078776   \n",
      "2  50038000      0.0        1.0  1642090754318   \n",
      "3  50330434      0.0        0.0  1515945190594   \n",
      "4  50030887      1.0        0.0  1655832259676   \n",
      "\n",
      "                                          courseName  \\\n",
      "0                                Asset Pricing (V+Ü)   \n",
      "1                 Mathematik I (V+Ü) (Mathematics I)   \n",
      "2  Betriebswirtschaftslehre I (V + Ü) (Business A...   \n",
      "3  Wirtschaftsinformatik (V+Ü) (Business Informat...   \n",
      "4                       Statistik (V+Ü) (Statistics)   \n",
      "\n",
      "              courseNameShort  \n",
      "0               Asset Pricing  \n",
      "1                Mathematik I  \n",
      "2  Betriebswirtschaftslehre I  \n",
      "3       Wirtschaftsinformatik  \n",
      "4                   Statistik  \n"
     ]
    }
   ],
   "source": [
    "import json\n",
    "import pandas as pd\n",
    "\n",
    "with open('Bestande-Ratings.json') as f:\n",
    "    data = json.load(f)\n",
    "\n",
    "# convert to pandas dataframe\n",
    "df = pd.DataFrame(data)"
   ]
  },
  {
   "cell_type": "code",
   "execution_count": 3,
   "metadata": {},
   "outputs": [],
   "source": [
    "df.to_csv('data/Bestande-Ratings.csv', index=False)"
   ]
  },
  {
   "cell_type": "code",
   "execution_count": 4,
   "metadata": {},
   "outputs": [
    {
     "name": "stdout",
     "output_type": "stream",
     "text": [
      "70503\n",
      "10099\n"
     ]
    }
   ],
   "source": [
    "# count amount of reviews that have a review text\n",
    "print(df['_id'].count())\n",
    "print(df['review'].count())\n"
   ]
  },
  {
   "cell_type": "markdown",
   "metadata": {},
   "source": [
    "# Selecting non German language in reviews"
   ]
  },
  {
   "cell_type": "code",
   "execution_count": 5,
   "metadata": {},
   "outputs": [],
   "source": [
    "from ftlangdetect import detect"
   ]
  },
  {
   "cell_type": "code",
   "execution_count": 32,
   "metadata": {},
   "outputs": [
    {
     "name": "stdout",
     "output_type": "stream",
     "text": [
      "(10099, 10)\n"
     ]
    },
    {
     "name": "stderr",
     "output_type": "stream",
     "text": [
      "/tmp/ipykernel_16749/2810823707.py:3: SettingWithCopyWarning: \n",
      "A value is trying to be set on a copy of a slice from a DataFrame.\n",
      "Try using .loc[row_indexer,col_indexer] = value instead\n",
      "\n",
      "See the caveats in the documentation: https://pandas.pydata.org/pandas-docs/stable/user_guide/indexing.html#returning-a-view-versus-a-copy\n",
      "  df_reviews['review'] = df_reviews['review'].str.replace('\\n', ' ')\n"
     ]
    }
   ],
   "source": [
    "df_reviews = df[df['review'].notnull()]\n",
    "\n",
    "df_reviews['review'] = df_reviews['review'].str.replace('\\n', ' ')\n",
    "print(df_reviews.shape)"
   ]
  },
  {
   "cell_type": "code",
   "execution_count": 5,
   "metadata": {},
   "outputs": [
    {
     "ename": "NameError",
     "evalue": "name 'df_reviews' is not defined",
     "output_type": "error",
     "traceback": [
      "\u001b[0;31m---------------------------------------------------------------------------\u001b[0m",
      "\u001b[0;31mNameError\u001b[0m                                 Traceback (most recent call last)",
      "\u001b[1;32m/home/liamt/Uni/Master/HS23/EITASP/Essentials-in-Text-and-Speech-Processing/data_cleaning.ipynb Cell 7\u001b[0m line \u001b[0;36m5\n\u001b[1;32m      <a href='vscode-notebook-cell://wsl%2Bubuntu/home/liamt/Uni/Master/HS23/EITASP/Essentials-in-Text-and-Speech-Processing/data_cleaning.ipynb#W6sdnNjb2RlLXJlbW90ZQ%3D%3D?line=1'>2</a>\u001b[0m de \u001b[39m=\u001b[39m []\n\u001b[1;32m      <a href='vscode-notebook-cell://wsl%2Bubuntu/home/liamt/Uni/Master/HS23/EITASP/Essentials-in-Text-and-Speech-Processing/data_cleaning.ipynb#W6sdnNjb2RlLXJlbW90ZQ%3D%3D?line=2'>3</a>\u001b[0m other \u001b[39m=\u001b[39m []\n\u001b[0;32m----> <a href='vscode-notebook-cell://wsl%2Bubuntu/home/liamt/Uni/Master/HS23/EITASP/Essentials-in-Text-and-Speech-Processing/data_cleaning.ipynb#W6sdnNjb2RlLXJlbW90ZQ%3D%3D?line=4'>5</a>\u001b[0m \u001b[39mfor\u001b[39;00m index, row \u001b[39min\u001b[39;00m df_reviews\u001b[39m.\u001b[39miterrows():\n\u001b[1;32m      <a href='vscode-notebook-cell://wsl%2Bubuntu/home/liamt/Uni/Master/HS23/EITASP/Essentials-in-Text-and-Speech-Processing/data_cleaning.ipynb#W6sdnNjb2RlLXJlbW90ZQ%3D%3D?line=5'>6</a>\u001b[0m     result \u001b[39m=\u001b[39m detect(text\u001b[39m=\u001b[39mrow[\u001b[39m'\u001b[39m\u001b[39mreview\u001b[39m\u001b[39m'\u001b[39m], low_memory\u001b[39m=\u001b[39m\u001b[39mTrue\u001b[39;00m)[\u001b[39m\"\u001b[39m\u001b[39mlang\u001b[39m\u001b[39m\"\u001b[39m]\n\u001b[1;32m      <a href='vscode-notebook-cell://wsl%2Bubuntu/home/liamt/Uni/Master/HS23/EITASP/Essentials-in-Text-and-Speech-Processing/data_cleaning.ipynb#W6sdnNjb2RlLXJlbW90ZQ%3D%3D?line=7'>8</a>\u001b[0m     \u001b[39mif\u001b[39;00m result \u001b[39m==\u001b[39m \u001b[39m'\u001b[39m\u001b[39men\u001b[39m\u001b[39m'\u001b[39m:\n",
      "\u001b[0;31mNameError\u001b[0m: name 'df_reviews' is not defined"
     ]
    }
   ],
   "source": [
    "en = []\n",
    "de = []\n",
    "other = []\n",
    "\n",
    "for index, row in df_reviews.iterrows():\n",
    "    result = detect(text=row['review'], low_memory=True)[\"lang\"]\n",
    "\n",
    "    if result == 'en':\n",
    "        en.append(row)\n",
    "    elif result == 'de':\n",
    "        de.append(row)\n",
    "    else: \n",
    "        other.append(row)\n",
    "\n"
   ]
  },
  {
   "cell_type": "code",
   "execution_count": 4,
   "metadata": {},
   "outputs": [
    {
     "ename": "NameError",
     "evalue": "name 'df' is not defined",
     "output_type": "error",
     "traceback": [
      "\u001b[0;31m---------------------------------------------------------------------------\u001b[0m",
      "\u001b[0;31mNameError\u001b[0m                                 Traceback (most recent call last)",
      "\u001b[1;32m/home/liamt/Uni/Master/HS23/EITASP/Essentials-in-Text-and-Speech-Processing/data_cleaning.ipynb Cell 8\u001b[0m line \u001b[0;36m1\n\u001b[0;32m----> <a href='vscode-notebook-cell://wsl%2Bubuntu/home/liamt/Uni/Master/HS23/EITASP/Essentials-in-Text-and-Speech-Processing/data_cleaning.ipynb#X10sdnNjb2RlLXJlbW90ZQ%3D%3D?line=0'>1</a>\u001b[0m columns \u001b[39m=\u001b[39m df\u001b[39m.\u001b[39mcolumns\u001b[39m.\u001b[39mto_list()\n\u001b[1;32m      <a href='vscode-notebook-cell://wsl%2Bubuntu/home/liamt/Uni/Master/HS23/EITASP/Essentials-in-Text-and-Speech-Processing/data_cleaning.ipynb#X10sdnNjb2RlLXJlbW90ZQ%3D%3D?line=2'>3</a>\u001b[0m df_en \u001b[39m=\u001b[39m pd\u001b[39m.\u001b[39mDataFrame(en, columns\u001b[39m=\u001b[39mcolumns)\n\u001b[1;32m      <a href='vscode-notebook-cell://wsl%2Bubuntu/home/liamt/Uni/Master/HS23/EITASP/Essentials-in-Text-and-Speech-Processing/data_cleaning.ipynb#X10sdnNjb2RlLXJlbW90ZQ%3D%3D?line=3'>4</a>\u001b[0m df_de \u001b[39m=\u001b[39m pd\u001b[39m.\u001b[39mDataFrame(de, columns\u001b[39m=\u001b[39mcolumns)\n",
      "\u001b[0;31mNameError\u001b[0m: name 'df' is not defined"
     ]
    }
   ],
   "source": [
    "columns = df.columns.to_list()\n",
    "\n",
    "df_en = pd.DataFrame(en, columns=columns)\n",
    "df_de = pd.DataFrame(de, columns=columns)\n",
    "df_other = pd.DataFrame(other, columns=columns)\n",
    "\n",
    "# to csv\n",
    "df_en.to_csv('data/reviews_en.csv', index=False)\n",
    "df_de.to_csv('data/reviews_de.csv', index=False)\n",
    "df_other.to_csv('data/reviews_other.csv', index=False)"
   ]
  },
  {
   "cell_type": "code",
   "execution_count": 3,
   "metadata": {},
   "outputs": [
    {
     "ename": "NameError",
     "evalue": "name 'df_en' is not defined",
     "output_type": "error",
     "traceback": [
      "\u001b[0;31m---------------------------------------------------------------------------\u001b[0m",
      "\u001b[0;31mNameError\u001b[0m                                 Traceback (most recent call last)",
      "\u001b[1;32m/home/liamt/Uni/Master/HS23/EITASP/Essentials-in-Text-and-Speech-Processing/data_cleaning.ipynb Cell 9\u001b[0m line \u001b[0;36m1\n\u001b[0;32m----> <a href='vscode-notebook-cell://wsl%2Bubuntu/home/liamt/Uni/Master/HS23/EITASP/Essentials-in-Text-and-Speech-Processing/data_cleaning.ipynb#X11sdnNjb2RlLXJlbW90ZQ%3D%3D?line=0'>1</a>\u001b[0m \u001b[39mprint\u001b[39m(df_en\u001b[39m.\u001b[39mshape)\n\u001b[1;32m      <a href='vscode-notebook-cell://wsl%2Bubuntu/home/liamt/Uni/Master/HS23/EITASP/Essentials-in-Text-and-Speech-Processing/data_cleaning.ipynb#X11sdnNjb2RlLXJlbW90ZQ%3D%3D?line=1'>2</a>\u001b[0m \u001b[39mprint\u001b[39m(df_de\u001b[39m.\u001b[39mshape)\n\u001b[1;32m      <a href='vscode-notebook-cell://wsl%2Bubuntu/home/liamt/Uni/Master/HS23/EITASP/Essentials-in-Text-and-Speech-Processing/data_cleaning.ipynb#X11sdnNjb2RlLXJlbW90ZQ%3D%3D?line=2'>3</a>\u001b[0m \u001b[39mprint\u001b[39m(df_other\u001b[39m.\u001b[39mshape)\n",
      "\u001b[0;31mNameError\u001b[0m: name 'df_en' is not defined"
     ]
    }
   ],
   "source": [
    "print(df_en.shape)\n",
    "print(df_de.shape)\n",
    "print(df_other.shape)"
   ]
  }
 ],
 "metadata": {
  "kernelspec": {
   "display_name": "venv",
   "language": "python",
   "name": "python3"
  },
  "language_info": {
   "codemirror_mode": {
    "name": "ipython",
    "version": 3
   },
   "file_extension": ".py",
   "mimetype": "text/x-python",
   "name": "python",
   "nbconvert_exporter": "python",
   "pygments_lexer": "ipython3",
   "version": "3.10.12"
  },
  "orig_nbformat": 4
 },
 "nbformat": 4,
 "nbformat_minor": 2
}

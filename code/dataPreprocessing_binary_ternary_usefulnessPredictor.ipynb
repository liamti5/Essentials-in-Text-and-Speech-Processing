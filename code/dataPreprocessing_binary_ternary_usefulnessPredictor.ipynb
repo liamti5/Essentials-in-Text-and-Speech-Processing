{
 "cells": [
  {
   "cell_type": "code",
   "execution_count": 29,
   "id": "91acedc1",
   "metadata": {},
   "outputs": [],
   "source": [
    "import pandas as pd\n",
    "from sklearn.model_selection import train_test_split\n",
    "import os"
   ]
  },
  {
   "cell_type": "code",
   "execution_count": 30,
   "id": "9e7d2353",
   "metadata": {},
   "outputs": [],
   "source": [
    "dirname = os.path.abspath('')\n",
    "dataset_dir = os.path.join(dirname, \"..\\\\data\\\\ReviewPrediction\\\\dataset_no_negative.csv\")\n",
    "dataset_4nary_dir = os.path.join(dirname, \"..\\\\data\\\\ReviewPrediction\\\\dataset_stars_2.csv\")\n",
    "\n",
    "dataset = pd.read_csv(dataset_dir)\n",
    "dataset_4nary = pd.read_csv(dataset_4nary_dir)"
   ]
  },
  {
   "cell_type": "code",
   "execution_count": 31,
   "id": "7fe4b63d",
   "metadata": {},
   "outputs": [
    {
     "name": "stdout",
     "output_type": "stream",
     "text": [
      "0 0.6573507698797721\n",
      "1 0.2521619911411095\n",
      "3 0.038599451592491035\n",
      "2 0.05188778738662729\n",
      "######  Normalized weights  ##########\n",
      "0 0.030024969166763258\n",
      "1 0.07827086274213108\n",
      "3 0.5113268656186759\n",
      "2 0.3803773024724297\n"
     ]
    },
    {
     "data": {
      "text/plain": [
       "0.005343432197431318"
      ]
     },
     "execution_count": 31,
     "metadata": {},
     "output_type": "execute_result"
    }
   ],
   "source": [
    "# Obtain distribution 0-3 classes\n",
    "\n",
    "from collections import Counter\n",
    "dis = Counter(dataset_4nary['sum'])\n",
    "weights = {}\n",
    "for k,v in dis.items():\n",
    "    weights[k] = 1/v\n",
    "    print(k, v/len(dataset_4nary))\n",
    "\n",
    "print(\"######  Normalized weights  ##########\")\n",
    "for k, v in weights.items():\n",
    "    print(k, v/(sum(weights.values())))\n",
    "\n",
    "sum(weights.values())"
   ]
  },
  {
   "cell_type": "markdown",
   "id": "ec207d97",
   "metadata": {},
   "source": [
    "### Create 3-nary dataset"
   ]
  },
  {
   "cell_type": "code",
   "execution_count": 32,
   "id": "d2da0fea",
   "metadata": {},
   "outputs": [],
   "source": [
    "def map_ds(value):\n",
    "    if value >= 2:\n",
    "        value = 2\n",
    "    return value\n",
    "\n",
    "dataset['sum'] = dataset['sum'].map(lambda x: map_ds(x))\n",
    "dataset['sum'] = dataset['sum'].astype(int)\n",
    "dataset.to_csv('../data/ReviewPrediction/dataset_3_classes.csv')"
   ]
  },
  {
   "cell_type": "code",
   "execution_count": 33,
   "id": "49ae1196",
   "metadata": {},
   "outputs": [
    {
     "name": "stdout",
     "output_type": "stream",
     "text": [
      "6826\n",
      "1897\n",
      "759\n"
     ]
    }
   ],
   "source": [
    "train_dataset, test_dataset = train_test_split(dataset, train_size=0.8, stratify=dataset['sum'], random_state=42)\n",
    "train_dataset, val_dataset = train_test_split(train_dataset, train_size=0.9, stratify=train_dataset['sum'], random_state=42)\n",
    "\n",
    "print(len(train_dataset))\n",
    "print(len(test_dataset))\n",
    "print(len(val_dataset))"
   ]
  },
  {
   "cell_type": "code",
   "execution_count": 34,
   "id": "26bc817a",
   "metadata": {},
   "outputs": [],
   "source": [
    "train_dataset.to_csv('../data/ReviewPrediction/train_3nary.csv')\n",
    "test_dataset.to_csv('../data/ReviewPrediction/test_3nary.csv')\n",
    "val_dataset.to_csv('../data/ReviewPrediction/validation_3nary.csv')\n",
    "\n",
    "del train_dataset\n",
    "del test_dataset\n",
    "del val_dataset"
   ]
  },
  {
   "cell_type": "markdown",
   "id": "e67a6463",
   "metadata": {},
   "source": [
    "### Create binary dataset"
   ]
  },
  {
   "cell_type": "code",
   "execution_count": 35,
   "id": "6ba2e342",
   "metadata": {},
   "outputs": [],
   "source": [
    "def map_ds(value):\n",
    "    if value >= 1:\n",
    "        value = 1\n",
    "    return value\n",
    "\n",
    "dataset['sum'] = dataset['sum'].map(lambda x: map_ds(x))\n",
    "dataset['sum'] = dataset['sum'].astype(int)\n",
    "dataset.to_csv('../data/ReviewPrediction/dataset_binary.csv')"
   ]
  },
  {
   "cell_type": "code",
   "execution_count": 36,
   "id": "17ae909b",
   "metadata": {},
   "outputs": [
    {
     "name": "stdout",
     "output_type": "stream",
     "text": [
      "6826\n",
      "1897\n",
      "759\n"
     ]
    }
   ],
   "source": [
    "train_dataset, test_dataset = train_test_split(dataset, train_size=0.8, stratify=dataset['sum'], random_state=42)\n",
    "train_dataset, val_dataset = train_test_split(train_dataset, train_size=0.9, stratify=train_dataset['sum'], random_state=42)\n",
    "\n",
    "print(len(train_dataset))\n",
    "print(len(test_dataset))\n",
    "print(len(val_dataset))"
   ]
  },
  {
   "cell_type": "code",
   "execution_count": 37,
   "id": "d7a2dcca",
   "metadata": {},
   "outputs": [],
   "source": [
    "train_dataset.to_csv('../data/ReviewPrediction/train_binary.csv')\n",
    "test_dataset.to_csv('../data/ReviewPrediction/test_binary.csv')\n",
    "val_dataset.to_csv('../data/ReviewPrediction/validation_binary.csv')\n",
    "\n",
    "del train_dataset\n",
    "del test_dataset\n",
    "del val_dataset"
   ]
  }
 ],
 "metadata": {
  "kernelspec": {
   "display_name": "Python 3 (ipykernel)",
   "language": "python",
   "name": "python3"
  },
  "language_info": {
   "codemirror_mode": {
    "name": "ipython",
    "version": 3
   },
   "file_extension": ".py",
   "mimetype": "text/x-python",
   "name": "python",
   "nbconvert_exporter": "python",
   "pygments_lexer": "ipython3",
   "version": "3.10.13"
  }
 },
 "nbformat": 4,
 "nbformat_minor": 5
}

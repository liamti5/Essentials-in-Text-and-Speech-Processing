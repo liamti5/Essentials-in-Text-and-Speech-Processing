{
  "cells": [
    {
      "cell_type": "markdown",
      "metadata": {
        "colab_type": "text",
        "id": "view-in-github"
      },
      "source": [
        "<a href=\"https://colab.research.google.com/github/liamti5/UZH-Essentials-in-Text-and-Speech-Processing/blob/master/main.ipynb\" target=\"_parent\"><img src=\"https://colab.research.google.com/assets/colab-badge.svg\" alt=\"Open In Colab\"/></a>"
      ]
    },
    {
      "cell_type": "code",
      "execution_count": 8,
      "metadata": {
        "colab": {
          "base_uri": "https://localhost:8080/"
        },
        "id": "VpuIg4keplCB",
        "outputId": "a207774e-a364-419f-ac35-3e9b37756d97"
      },
      "outputs": [
        {
          "name": "stderr",
          "output_type": "stream",
          "text": [
            "huggingface/tokenizers: The current process just got forked, after parallelism has already been used. Disabling parallelism to avoid deadlocks...\n",
            "To disable this warning, you can either:\n",
            "\t- Avoid using `tokenizers` before the fork if possible\n",
            "\t- Explicitly set the environment variable TOKENIZERS_PARALLELISM=(true | false)\n"
          ]
        },
        {
          "name": "stdout",
          "output_type": "stream",
          "text": [
            "Requirement already satisfied: pandas in /home/liamt/Uni/Master/HS23/EITASP/Essentials-in-Text-and-Speech-Processing/.venv/lib/python3.10/site-packages (2.1.1)\n",
            "Requirement already satisfied: numpy>=1.22.4 in /home/liamt/Uni/Master/HS23/EITASP/Essentials-in-Text-and-Speech-Processing/.venv/lib/python3.10/site-packages (from pandas) (1.26.0)\n",
            "Requirement already satisfied: python-dateutil>=2.8.2 in /home/liamt/Uni/Master/HS23/EITASP/Essentials-in-Text-and-Speech-Processing/.venv/lib/python3.10/site-packages (from pandas) (2.8.2)\n",
            "Requirement already satisfied: pytz>=2020.1 in /home/liamt/Uni/Master/HS23/EITASP/Essentials-in-Text-and-Speech-Processing/.venv/lib/python3.10/site-packages (from pandas) (2023.3.post1)\n",
            "Requirement already satisfied: tzdata>=2022.1 in /home/liamt/Uni/Master/HS23/EITASP/Essentials-in-Text-and-Speech-Processing/.venv/lib/python3.10/site-packages (from pandas) (2023.3)\n",
            "Requirement already satisfied: six>=1.5 in /home/liamt/Uni/Master/HS23/EITASP/Essentials-in-Text-and-Speech-Processing/.venv/lib/python3.10/site-packages (from python-dateutil>=2.8.2->pandas) (1.16.0)\n"
          ]
        },
        {
          "name": "stderr",
          "output_type": "stream",
          "text": [
            "huggingface/tokenizers: The current process just got forked, after parallelism has already been used. Disabling parallelism to avoid deadlocks...\n",
            "To disable this warning, you can either:\n",
            "\t- Avoid using `tokenizers` before the fork if possible\n",
            "\t- Explicitly set the environment variable TOKENIZERS_PARALLELISM=(true | false)\n"
          ]
        },
        {
          "name": "stdout",
          "output_type": "stream",
          "text": [
            "Requirement already satisfied: transformers in /home/liamt/Uni/Master/HS23/EITASP/Essentials-in-Text-and-Speech-Processing/.venv/lib/python3.10/site-packages (4.34.0)\n",
            "Requirement already satisfied: filelock in /home/liamt/Uni/Master/HS23/EITASP/Essentials-in-Text-and-Speech-Processing/.venv/lib/python3.10/site-packages (from transformers) (3.12.4)\n",
            "Requirement already satisfied: huggingface-hub<1.0,>=0.16.4 in /home/liamt/Uni/Master/HS23/EITASP/Essentials-in-Text-and-Speech-Processing/.venv/lib/python3.10/site-packages (from transformers) (0.17.3)\n",
            "Requirement already satisfied: numpy>=1.17 in /home/liamt/Uni/Master/HS23/EITASP/Essentials-in-Text-and-Speech-Processing/.venv/lib/python3.10/site-packages (from transformers) (1.26.0)\n",
            "Requirement already satisfied: packaging>=20.0 in /home/liamt/Uni/Master/HS23/EITASP/Essentials-in-Text-and-Speech-Processing/.venv/lib/python3.10/site-packages (from transformers) (23.2)\n",
            "Requirement already satisfied: pyyaml>=5.1 in /home/liamt/Uni/Master/HS23/EITASP/Essentials-in-Text-and-Speech-Processing/.venv/lib/python3.10/site-packages (from transformers) (6.0.1)\n",
            "Requirement already satisfied: regex!=2019.12.17 in /home/liamt/Uni/Master/HS23/EITASP/Essentials-in-Text-and-Speech-Processing/.venv/lib/python3.10/site-packages (from transformers) (2023.10.3)\n",
            "Requirement already satisfied: requests in /home/liamt/Uni/Master/HS23/EITASP/Essentials-in-Text-and-Speech-Processing/.venv/lib/python3.10/site-packages (from transformers) (2.31.0)\n",
            "Requirement already satisfied: tokenizers<0.15,>=0.14 in /home/liamt/Uni/Master/HS23/EITASP/Essentials-in-Text-and-Speech-Processing/.venv/lib/python3.10/site-packages (from transformers) (0.14.1)\n",
            "Requirement already satisfied: safetensors>=0.3.1 in /home/liamt/Uni/Master/HS23/EITASP/Essentials-in-Text-and-Speech-Processing/.venv/lib/python3.10/site-packages (from transformers) (0.4.0)\n",
            "Requirement already satisfied: tqdm>=4.27 in /home/liamt/Uni/Master/HS23/EITASP/Essentials-in-Text-and-Speech-Processing/.venv/lib/python3.10/site-packages (from transformers) (4.66.1)\n",
            "Requirement already satisfied: fsspec in /home/liamt/Uni/Master/HS23/EITASP/Essentials-in-Text-and-Speech-Processing/.venv/lib/python3.10/site-packages (from huggingface-hub<1.0,>=0.16.4->transformers) (2023.9.2)\n",
            "Requirement already satisfied: typing-extensions>=3.7.4.3 in /home/liamt/Uni/Master/HS23/EITASP/Essentials-in-Text-and-Speech-Processing/.venv/lib/python3.10/site-packages (from huggingface-hub<1.0,>=0.16.4->transformers) (4.8.0)\n",
            "Requirement already satisfied: charset-normalizer<4,>=2 in /home/liamt/Uni/Master/HS23/EITASP/Essentials-in-Text-and-Speech-Processing/.venv/lib/python3.10/site-packages (from requests->transformers) (3.3.0)\n",
            "Requirement already satisfied: idna<4,>=2.5 in /home/liamt/Uni/Master/HS23/EITASP/Essentials-in-Text-and-Speech-Processing/.venv/lib/python3.10/site-packages (from requests->transformers) (3.4)\n",
            "Requirement already satisfied: urllib3<3,>=1.21.1 in /home/liamt/Uni/Master/HS23/EITASP/Essentials-in-Text-and-Speech-Processing/.venv/lib/python3.10/site-packages (from requests->transformers) (2.0.6)\n",
            "Requirement already satisfied: certifi>=2017.4.17 in /home/liamt/Uni/Master/HS23/EITASP/Essentials-in-Text-and-Speech-Processing/.venv/lib/python3.10/site-packages (from requests->transformers) (2023.7.22)\n"
          ]
        },
        {
          "name": "stderr",
          "output_type": "stream",
          "text": [
            "huggingface/tokenizers: The current process just got forked, after parallelism has already been used. Disabling parallelism to avoid deadlocks...\n",
            "To disable this warning, you can either:\n",
            "\t- Avoid using `tokenizers` before the fork if possible\n",
            "\t- Explicitly set the environment variable TOKENIZERS_PARALLELISM=(true | false)\n"
          ]
        },
        {
          "name": "stdout",
          "output_type": "stream",
          "text": [
            "Requirement already satisfied: torch in /home/liamt/Uni/Master/HS23/EITASP/Essentials-in-Text-and-Speech-Processing/.venv/lib/python3.10/site-packages (2.1.0)\n",
            "Requirement already satisfied: filelock in /home/liamt/Uni/Master/HS23/EITASP/Essentials-in-Text-and-Speech-Processing/.venv/lib/python3.10/site-packages (from torch) (3.12.4)\n",
            "Requirement already satisfied: typing-extensions in /home/liamt/Uni/Master/HS23/EITASP/Essentials-in-Text-and-Speech-Processing/.venv/lib/python3.10/site-packages (from torch) (4.8.0)\n",
            "Requirement already satisfied: sympy in /home/liamt/Uni/Master/HS23/EITASP/Essentials-in-Text-and-Speech-Processing/.venv/lib/python3.10/site-packages (from torch) (1.12)\n",
            "Requirement already satisfied: networkx in /home/liamt/Uni/Master/HS23/EITASP/Essentials-in-Text-and-Speech-Processing/.venv/lib/python3.10/site-packages (from torch) (3.1)\n",
            "Requirement already satisfied: jinja2 in /home/liamt/Uni/Master/HS23/EITASP/Essentials-in-Text-and-Speech-Processing/.venv/lib/python3.10/site-packages (from torch) (3.1.2)\n",
            "Requirement already satisfied: fsspec in /home/liamt/Uni/Master/HS23/EITASP/Essentials-in-Text-and-Speech-Processing/.venv/lib/python3.10/site-packages (from torch) (2023.9.2)\n",
            "Requirement already satisfied: nvidia-cuda-nvrtc-cu12==12.1.105 in /home/liamt/Uni/Master/HS23/EITASP/Essentials-in-Text-and-Speech-Processing/.venv/lib/python3.10/site-packages (from torch) (12.1.105)\n",
            "Requirement already satisfied: nvidia-cuda-runtime-cu12==12.1.105 in /home/liamt/Uni/Master/HS23/EITASP/Essentials-in-Text-and-Speech-Processing/.venv/lib/python3.10/site-packages (from torch) (12.1.105)\n",
            "Requirement already satisfied: nvidia-cuda-cupti-cu12==12.1.105 in /home/liamt/Uni/Master/HS23/EITASP/Essentials-in-Text-and-Speech-Processing/.venv/lib/python3.10/site-packages (from torch) (12.1.105)\n",
            "Requirement already satisfied: nvidia-cudnn-cu12==8.9.2.26 in /home/liamt/Uni/Master/HS23/EITASP/Essentials-in-Text-and-Speech-Processing/.venv/lib/python3.10/site-packages (from torch) (8.9.2.26)\n",
            "Requirement already satisfied: nvidia-cublas-cu12==12.1.3.1 in /home/liamt/Uni/Master/HS23/EITASP/Essentials-in-Text-and-Speech-Processing/.venv/lib/python3.10/site-packages (from torch) (12.1.3.1)\n",
            "Requirement already satisfied: nvidia-cufft-cu12==11.0.2.54 in /home/liamt/Uni/Master/HS23/EITASP/Essentials-in-Text-and-Speech-Processing/.venv/lib/python3.10/site-packages (from torch) (11.0.2.54)\n",
            "Requirement already satisfied: nvidia-curand-cu12==10.3.2.106 in /home/liamt/Uni/Master/HS23/EITASP/Essentials-in-Text-and-Speech-Processing/.venv/lib/python3.10/site-packages (from torch) (10.3.2.106)\n",
            "Requirement already satisfied: nvidia-cusolver-cu12==11.4.5.107 in /home/liamt/Uni/Master/HS23/EITASP/Essentials-in-Text-and-Speech-Processing/.venv/lib/python3.10/site-packages (from torch) (11.4.5.107)\n",
            "Requirement already satisfied: nvidia-cusparse-cu12==12.1.0.106 in /home/liamt/Uni/Master/HS23/EITASP/Essentials-in-Text-and-Speech-Processing/.venv/lib/python3.10/site-packages (from torch) (12.1.0.106)\n",
            "Requirement already satisfied: nvidia-nccl-cu12==2.18.1 in /home/liamt/Uni/Master/HS23/EITASP/Essentials-in-Text-and-Speech-Processing/.venv/lib/python3.10/site-packages (from torch) (2.18.1)\n",
            "Requirement already satisfied: nvidia-nvtx-cu12==12.1.105 in /home/liamt/Uni/Master/HS23/EITASP/Essentials-in-Text-and-Speech-Processing/.venv/lib/python3.10/site-packages (from torch) (12.1.105)\n",
            "Requirement already satisfied: triton==2.1.0 in /home/liamt/Uni/Master/HS23/EITASP/Essentials-in-Text-and-Speech-Processing/.venv/lib/python3.10/site-packages (from torch) (2.1.0)\n",
            "Requirement already satisfied: nvidia-nvjitlink-cu12 in /home/liamt/Uni/Master/HS23/EITASP/Essentials-in-Text-and-Speech-Processing/.venv/lib/python3.10/site-packages (from nvidia-cusolver-cu12==11.4.5.107->torch) (12.2.140)\n",
            "Requirement already satisfied: MarkupSafe>=2.0 in /home/liamt/Uni/Master/HS23/EITASP/Essentials-in-Text-and-Speech-Processing/.venv/lib/python3.10/site-packages (from jinja2->torch) (2.1.3)\n",
            "Requirement already satisfied: mpmath>=0.19 in /home/liamt/Uni/Master/HS23/EITASP/Essentials-in-Text-and-Speech-Processing/.venv/lib/python3.10/site-packages (from sympy->torch) (1.3.0)\n"
          ]
        },
        {
          "name": "stderr",
          "output_type": "stream",
          "text": [
            "huggingface/tokenizers: The current process just got forked, after parallelism has already been used. Disabling parallelism to avoid deadlocks...\n",
            "To disable this warning, you can either:\n",
            "\t- Avoid using `tokenizers` before the fork if possible\n",
            "\t- Explicitly set the environment variable TOKENIZERS_PARALLELISM=(true | false)\n"
          ]
        },
        {
          "name": "stdout",
          "output_type": "stream",
          "text": [
            "Requirement already satisfied: sentencepiece in /home/liamt/Uni/Master/HS23/EITASP/Essentials-in-Text-and-Speech-Processing/.venv/lib/python3.10/site-packages (0.1.99)\n"
          ]
        },
        {
          "name": "stderr",
          "output_type": "stream",
          "text": [
            "huggingface/tokenizers: The current process just got forked, after parallelism has already been used. Disabling parallelism to avoid deadlocks...\n",
            "To disable this warning, you can either:\n",
            "\t- Avoid using `tokenizers` before the fork if possible\n",
            "\t- Explicitly set the environment variable TOKENIZERS_PARALLELISM=(true | false)\n"
          ]
        },
        {
          "name": "stdout",
          "output_type": "stream",
          "text": [
            "Collecting sacremoses\n",
            "  Using cached sacremoses-0.0.53-py3-none-any.whl\n",
            "Requirement already satisfied: click in /home/liamt/Uni/Master/HS23/EITASP/Essentials-in-Text-and-Speech-Processing/.venv/lib/python3.10/site-packages (from sacremoses) (8.1.7)\n",
            "Requirement already satisfied: joblib in /home/liamt/Uni/Master/HS23/EITASP/Essentials-in-Text-and-Speech-Processing/.venv/lib/python3.10/site-packages (from sacremoses) (1.3.2)\n",
            "Requirement already satisfied: regex in /home/liamt/Uni/Master/HS23/EITASP/Essentials-in-Text-and-Speech-Processing/.venv/lib/python3.10/site-packages (from sacremoses) (2023.10.3)\n",
            "Requirement already satisfied: six in /home/liamt/Uni/Master/HS23/EITASP/Essentials-in-Text-and-Speech-Processing/.venv/lib/python3.10/site-packages (from sacremoses) (1.16.0)\n",
            "Requirement already satisfied: tqdm in /home/liamt/Uni/Master/HS23/EITASP/Essentials-in-Text-and-Speech-Processing/.venv/lib/python3.10/site-packages (from sacremoses) (4.66.1)\n",
            "Installing collected packages: sacremoses\n",
            "Successfully installed sacremoses-0.0.53\n"
          ]
        }
      ],
      "source": [
        "!pip install pandas\n",
        "!pip install transformers\n",
        "!pip install torch\n",
        "!pip install sentencepiece\n",
        "!pip install sacremoses"
      ]
    },
    {
      "cell_type": "code",
      "execution_count": 1,
      "metadata": {
        "id": "-blcwdEHq7h-"
      },
      "outputs": [
        {
          "name": "stderr",
          "output_type": "stream",
          "text": [
            "/home/liamt/Uni/Master/HS23/EITASP/Essentials-in-Text-and-Speech-Processing/.venv/lib/python3.10/site-packages/tqdm/auto.py:21: TqdmWarning: IProgress not found. Please update jupyter and ipywidgets. See https://ipywidgets.readthedocs.io/en/stable/user_install.html\n",
            "  from .autonotebook import tqdm as notebook_tqdm\n"
          ]
        }
      ],
      "source": [
        "import pandas as pd\n",
        "import torch\n",
        "import transformers\n",
        "import sentencepiece\n",
        "import numpy as np\n"
      ]
    },
    {
      "cell_type": "code",
      "execution_count": null,
      "metadata": {
        "colab": {
          "base_uri": "https://localhost:8080/"
        },
        "id": "qGi0BRggpO-O",
        "outputId": "79ee1abf-e57a-433e-8f23-0ec2f3603040"
      },
      "outputs": [
        {
          "name": "stdout",
          "output_type": "stream",
          "text": [
            "Drive already mounted at /content/drive; to attempt to forcibly remount, call drive.mount(\"/content/drive\", force_remount=True).\n"
          ]
        }
      ],
      "source": [
        "# from google.colab import drive\n",
        "# drive.mount('/content/drive')\n"
      ]
    },
    {
      "cell_type": "code",
      "execution_count": 2,
      "metadata": {
        "colab": {
          "base_uri": "https://localhost:8080/"
        },
        "id": "JAaKH5g4pZ3e",
        "outputId": "cbd69207-3c01-439c-cd6f-9903e05067cc"
      },
      "outputs": [
        {
          "name": "stdout",
          "output_type": "stream",
          "text": [
            "                        _id  \\\n",
            "0  5a5e48e1669270001a255a05   \n",
            "1  5a5e4c87669270001a255a9e   \n",
            "2  5a5e50f3be6796001a9d7316   \n",
            "3  5a5e5127be6796001a9d7324   \n",
            "4  5a5e5161be6796001a9d7337   \n",
            "\n",
            "                                              review  \\\n",
            "0                              HSG too good for this   \n",
            "1                             Winkelmann = Ehrenmann   \n",
            "2  PROs: This module represents for the student t...   \n",
            "3  Great Prof.! Best one so far. Easy to get good...   \n",
            "4  The AC part is great but OC is trying to pack ...   \n",
            "\n",
            "                                        translations  score university  \\\n",
            "0                                   HSG zu gut dafür      1        UZH   \n",
            "1                             Winkelmann = Ehrenmann      5        UZH   \n",
            "2                                                NaN      3        UZH   \n",
            "3  Große Prof.! Beste bis jetzt. Einfach gute Not...      5        UZH   \n",
            "4  Der AC-Teil ist toll, aber OC versucht, zu vie...      2        UZH   \n",
            "\n",
            "     course  upvotes  downvotes           date  \\\n",
            "0  50044544      4.0       41.0  1548419537136   \n",
            "1  50047387      1.0        0.0  1608566977197   \n",
            "2  50772388      3.0        0.0  1578223557075   \n",
            "3  50772226      0.0        1.0  1632840742122   \n",
            "4  50740660      0.0        1.0  1626375246178   \n",
            "\n",
            "                                          courseName  \\\n",
            "0                            Corporate Finance (L+E)   \n",
            "1  Einführung in die empirische Wirtschaftsforsch...   \n",
            "2    CHE 212 Practical course in Synthetic Chemistry   \n",
            "3                        CHE 203 Organic Chemistry I   \n",
            "4          CHE 102 Fundamentals of Chemistry, Part 2   \n",
            "\n",
            "                                     courseNameShort  \n",
            "0                                  Corporate Finance  \n",
            "1  Einführung in die empirische Wirtschaftsforschung  \n",
            "2            Practical course in Synthetic Chemistry  \n",
            "3                                Organic Chemistry I  \n",
            "4                  Fundamentals of Chemistry, Part 2  \n",
            "(6642, 10)\n"
          ]
        }
      ],
      "source": [
        "with open('../data/reviews_en_translated.csv', 'r') as f:\n",
        "  df_en_tr = pd.read_csv(f)\n",
        "\n",
        "with open('../data/reviews_de.csv', 'r') as f:\n",
        "  df_de = pd.read_csv(f)\n",
        "\n",
        "df_en_tr = df_en_tr.drop(columns=[\"translation\"])\n",
        "print(df_en_tr.head())\n",
        "\n",
        "print(df_de.shape)"
      ]
    },
    {
      "cell_type": "code",
      "execution_count": 3,
      "metadata": {
        "colab": {
          "base_uri": "https://localhost:8080/"
        },
        "id": "NPGJ2Vie8Lsx",
        "outputId": "54f35435-c71f-4642-9fc1-21bd4236dace"
      },
      "outputs": [
        {
          "name": "stdout",
          "output_type": "stream",
          "text": [
            "                        _id  \\\n",
            "0  5a5e48e1669270001a255a05   \n",
            "1  5a5e4c87669270001a255a9e   \n",
            "2  5a5e50f3be6796001a9d7316   \n",
            "3  5a5e5127be6796001a9d7324   \n",
            "4  5a5e5161be6796001a9d7337   \n",
            "\n",
            "                                              review  score university  \\\n",
            "0                                   HSG zu gut dafür      1        UZH   \n",
            "1                             Winkelmann = Ehrenmann      5        UZH   \n",
            "2                                                NaN      3        UZH   \n",
            "3  Große Prof.! Beste bis jetzt. Einfach gute Not...      5        UZH   \n",
            "4  Der AC-Teil ist toll, aber OC versucht, zu vie...      2        UZH   \n",
            "\n",
            "     course  upvotes  downvotes           date  \\\n",
            "0  50044544      4.0       41.0  1548419537136   \n",
            "1  50047387      1.0        0.0  1608566977197   \n",
            "2  50772388      3.0        0.0  1578223557075   \n",
            "3  50772226      0.0        1.0  1632840742122   \n",
            "4  50740660      0.0        1.0  1626375246178   \n",
            "\n",
            "                                          courseName  \\\n",
            "0                            Corporate Finance (L+E)   \n",
            "1  Einführung in die empirische Wirtschaftsforsch...   \n",
            "2    CHE 212 Practical course in Synthetic Chemistry   \n",
            "3                        CHE 203 Organic Chemistry I   \n",
            "4          CHE 102 Fundamentals of Chemistry, Part 2   \n",
            "\n",
            "                                     courseNameShort  \n",
            "0                                  Corporate Finance  \n",
            "1  Einführung in die empirische Wirtschaftsforschung  \n",
            "2            Practical course in Synthetic Chemistry  \n",
            "3                                Organic Chemistry I  \n",
            "4                  Fundamentals of Chemistry, Part 2  \n"
          ]
        }
      ],
      "source": [
        "df_en_tr = df_en_tr.drop(columns=[\"review\"])\n",
        "df_en_tr = df_en_tr.rename(columns={\"translations\": \"review\"})\n",
        "print(df_en_tr.head())"
      ]
    },
    {
      "cell_type": "code",
      "execution_count": 8,
      "metadata": {
        "colab": {
          "base_uri": "https://localhost:8080/",
          "height": 206
        },
        "id": "CH9Cj-8F-Ymp",
        "outputId": "a0040285-2b17-4bc6-dadf-83322fcd5257"
      },
      "outputs": [
        {
          "data": {
            "text/plain": [
              "(9725, 10)"
            ]
          },
          "execution_count": 8,
          "metadata": {},
          "output_type": "execute_result"
        }
      ],
      "source": [
        "df_main = pd.concat([df_de, df_en_tr])\n",
        "df_main.head()\n",
        "df_main.shape"
      ]
    },
    {
      "cell_type": "code",
      "execution_count": 7,
      "metadata": {
        "colab": {
          "base_uri": "https://localhost:8080/"
        },
        "id": "L0fAe3Py_YN8",
        "outputId": "11e4c8ac-eadf-46cd-9d96-7e356e74b2d8"
      },
      "outputs": [
        {
          "name": "stdout",
          "output_type": "stream",
          "text": [
            "(243, 10)\n"
          ]
        }
      ],
      "source": [
        "# count amount of empty reviews\n",
        "print(df_main[df_main['review'].isnull()].shape)\n"
      ]
    },
    {
      "cell_type": "code",
      "execution_count": 12,
      "metadata": {
        "id": "d5xyVtoA_aid"
      },
      "outputs": [],
      "source": [
        "df_main.to_csv('../data/main.csv', index=False)"
      ]
    },
    {
      "cell_type": "code",
      "execution_count": 13,
      "metadata": {},
      "outputs": [
        {
          "name": "stdout",
          "output_type": "stream",
          "text": [
            "(9482, 10)\n"
          ]
        }
      ],
      "source": [
        "# drop empty review rows\n",
        "df_main = df_main.dropna(subset=['review'])\n",
        "print(df_main.shape)"
      ]
    },
    {
      "cell_type": "code",
      "execution_count": 15,
      "metadata": {
        "colab": {
          "base_uri": "https://localhost:8080/"
        },
        "id": "t9DTxcZZABG5",
        "outputId": "3c2c52bd-dcf1-42b4-cb7e-6c5d24b8b6f1"
      },
      "outputs": [
        {
          "data": {
            "text/plain": [
              "(9482, 7)"
            ]
          },
          "execution_count": 15,
          "metadata": {},
          "output_type": "execute_result"
        }
      ],
      "source": [
        "df_only_relevant = df_main[[\"review\", \"score\", \"university\", \"course\", \"upvotes\", \"downvotes\", \"date\"]]\n",
        "df_only_relevant.shape"
      ]
    },
    {
      "cell_type": "code",
      "execution_count": 16,
      "metadata": {
        "colab": {
          "base_uri": "https://localhost:8080/"
        },
        "id": "3GNsEtXbHHoO",
        "outputId": "6fa8370d-59b5-4568-c7dc-46af71f675a3"
      },
      "outputs": [
        {
          "name": "stdout",
          "output_type": "stream",
          "text": [
            "                                              review  score university  \\\n",
            "0  interessantes aber sehr aufwändiges Fach. Die ...      3        UZH   \n",
            "1  Warum wird Moodle Verwendet & nicht OLAT? Anso...      4        UZH   \n",
            "2  langwiilig, Management teil nutzlos, nur uswän...      2        UZH   \n",
            "3  In diesem Fach zeichnet man Flowcharts und Pro...      3        UZH   \n",
            "4  weiss nöd warum so viel klaget. de dozent isch...      5        UZH   \n",
            "\n",
            "     course  upvotes  downvotes           date  total_votes  useful  \n",
            "0  50314925      0.0        1.0  1562135719091         -1.0       0  \n",
            "1  50038004      4.0        8.0  1538035078776         -4.0       0  \n",
            "2  50038000      0.0        1.0  1642090754318         -1.0       0  \n",
            "3  50330434      0.0        0.0  1515945190594          0.0       0  \n",
            "4  50030887      1.0        0.0  1655832259676          1.0       1  \n"
          ]
        },
        {
          "name": "stderr",
          "output_type": "stream",
          "text": [
            "/tmp/ipykernel_17353/2098858129.py:1: SettingWithCopyWarning: \n",
            "A value is trying to be set on a copy of a slice from a DataFrame.\n",
            "Try using .loc[row_indexer,col_indexer] = value instead\n",
            "\n",
            "See the caveats in the documentation: https://pandas.pydata.org/pandas-docs/stable/user_guide/indexing.html#returning-a-view-versus-a-copy\n",
            "  df_only_relevant['total_votes'] = df_only_relevant['upvotes'] - df_only_relevant['downvotes']\n",
            "/tmp/ipykernel_17353/2098858129.py:2: SettingWithCopyWarning: \n",
            "A value is trying to be set on a copy of a slice from a DataFrame.\n",
            "Try using .loc[row_indexer,col_indexer] = value instead\n",
            "\n",
            "See the caveats in the documentation: https://pandas.pydata.org/pandas-docs/stable/user_guide/indexing.html#returning-a-view-versus-a-copy\n",
            "  df_only_relevant['useful'] = (df_only_relevant['upvotes'] - df_only_relevant['downvotes'] > 0).astype(int)\n"
          ]
        }
      ],
      "source": [
        "df_only_relevant['total_votes'] = df_only_relevant['upvotes'] - df_only_relevant['downvotes']\n",
        "df_only_relevant['useful'] = (df_only_relevant['upvotes'] - df_only_relevant['downvotes'] > 0).astype(int)\n",
        "print(df_only_relevant.head())"
      ]
    },
    {
      "cell_type": "code",
      "execution_count": 27,
      "metadata": {},
      "outputs": [
        {
          "name": "stderr",
          "output_type": "stream",
          "text": [
            "huggingface/tokenizers: The current process just got forked, after parallelism has already been used. Disabling parallelism to avoid deadlocks...\n",
            "To disable this warning, you can either:\n",
            "\t- Avoid using `tokenizers` before the fork if possible\n",
            "\t- Explicitly set the environment variable TOKENIZERS_PARALLELISM=(true | false)\n"
          ]
        },
        {
          "name": "stdout",
          "output_type": "stream",
          "text": [
            "Collecting matplotlib\n",
            "  Obtaining dependency information for matplotlib from https://files.pythonhosted.org/packages/b5/24/aaccf324ce862bb82277e8814d2aebbb2a2c160d04e95aa2b8c9dc3137a9/matplotlib-3.8.0-cp310-cp310-manylinux_2_17_x86_64.manylinux2014_x86_64.whl.metadata\n",
            "  Downloading matplotlib-3.8.0-cp310-cp310-manylinux_2_17_x86_64.manylinux2014_x86_64.whl.metadata (5.8 kB)\n",
            "Collecting contourpy>=1.0.1 (from matplotlib)\n",
            "  Obtaining dependency information for contourpy>=1.0.1 from https://files.pythonhosted.org/packages/f1/6b/e4b0f8708f22dd7c321f87eadbb98708975e115ac6582eb46d1f32197ce6/contourpy-1.1.1-cp310-cp310-manylinux_2_17_x86_64.manylinux2014_x86_64.whl.metadata\n",
            "  Downloading contourpy-1.1.1-cp310-cp310-manylinux_2_17_x86_64.manylinux2014_x86_64.whl.metadata (5.9 kB)\n",
            "Collecting cycler>=0.10 (from matplotlib)\n",
            "  Obtaining dependency information for cycler>=0.10 from https://files.pythonhosted.org/packages/e7/05/c19819d5e3d95294a6f5947fb9b9629efb316b96de511b418c53d245aae6/cycler-0.12.1-py3-none-any.whl.metadata\n",
            "  Downloading cycler-0.12.1-py3-none-any.whl.metadata (3.8 kB)\n",
            "Collecting fonttools>=4.22.0 (from matplotlib)\n",
            "  Obtaining dependency information for fonttools>=4.22.0 from https://files.pythonhosted.org/packages/ac/ed/9a33eca5e2cc35dc1fea0a968509c653db9a99a5979656ae57c6c019d66b/fonttools-4.43.1-cp310-cp310-manylinux_2_17_x86_64.manylinux2014_x86_64.whl.metadata\n",
            "  Downloading fonttools-4.43.1-cp310-cp310-manylinux_2_17_x86_64.manylinux2014_x86_64.whl.metadata (152 kB)\n",
            "\u001b[2K     \u001b[90m━━━━━━━━━━━━━━━━━━━━━━━━━━━━━━━━━━━━━━━\u001b[0m \u001b[32m152.4/152.4 kB\u001b[0m \u001b[31m3.3 MB/s\u001b[0m eta \u001b[36m0:00:00\u001b[0ma \u001b[36m0:00:01\u001b[0m\n",
            "\u001b[?25hCollecting kiwisolver>=1.0.1 (from matplotlib)\n",
            "  Obtaining dependency information for kiwisolver>=1.0.1 from https://files.pythonhosted.org/packages/6f/40/4ab1fdb57fced80ce5903f04ae1aed7c1d5939dda4fd0c0aa526c12fe28a/kiwisolver-1.4.5-cp310-cp310-manylinux_2_12_x86_64.manylinux2010_x86_64.whl.metadata\n",
            "  Downloading kiwisolver-1.4.5-cp310-cp310-manylinux_2_12_x86_64.manylinux2010_x86_64.whl.metadata (6.4 kB)\n",
            "Requirement already satisfied: numpy<2,>=1.21 in /home/liamt/Uni/Master/HS23/EITASP/Essentials-in-Text-and-Speech-Processing/.venv/lib/python3.10/site-packages (from matplotlib) (1.26.0)\n",
            "Requirement already satisfied: packaging>=20.0 in /home/liamt/Uni/Master/HS23/EITASP/Essentials-in-Text-and-Speech-Processing/.venv/lib/python3.10/site-packages (from matplotlib) (23.2)\n",
            "Requirement already satisfied: pillow>=6.2.0 in /home/liamt/Uni/Master/HS23/EITASP/Essentials-in-Text-and-Speech-Processing/.venv/lib/python3.10/site-packages (from matplotlib) (10.0.1)\n",
            "Collecting pyparsing>=2.3.1 (from matplotlib)\n",
            "  Obtaining dependency information for pyparsing>=2.3.1 from https://files.pythonhosted.org/packages/39/92/8486ede85fcc088f1b3dba4ce92dd29d126fd96b0008ea213167940a2475/pyparsing-3.1.1-py3-none-any.whl.metadata\n",
            "  Using cached pyparsing-3.1.1-py3-none-any.whl.metadata (5.1 kB)\n",
            "Requirement already satisfied: python-dateutil>=2.7 in /home/liamt/Uni/Master/HS23/EITASP/Essentials-in-Text-and-Speech-Processing/.venv/lib/python3.10/site-packages (from matplotlib) (2.8.2)\n",
            "Requirement already satisfied: six>=1.5 in /home/liamt/Uni/Master/HS23/EITASP/Essentials-in-Text-and-Speech-Processing/.venv/lib/python3.10/site-packages (from python-dateutil>=2.7->matplotlib) (1.16.0)\n",
            "Downloading matplotlib-3.8.0-cp310-cp310-manylinux_2_17_x86_64.manylinux2014_x86_64.whl (11.6 MB)\n",
            "\u001b[2K   \u001b[90m━━━━━━━━━━━━━━━━━━━━━━━━━━━━━━━━━━━━━━━━\u001b[0m \u001b[32m11.6/11.6 MB\u001b[0m \u001b[31m8.4 MB/s\u001b[0m eta \u001b[36m0:00:00\u001b[0m00:01\u001b[0m00:01\u001b[0m\n",
            "\u001b[?25hDownloading contourpy-1.1.1-cp310-cp310-manylinux_2_17_x86_64.manylinux2014_x86_64.whl (301 kB)\n",
            "\u001b[2K   \u001b[90m━━━━━━━━━━━━━━━━━━━━━━━━━━━━━━━━━━━━━━━━\u001b[0m \u001b[32m301.7/301.7 kB\u001b[0m \u001b[31m20.6 MB/s\u001b[0m eta \u001b[36m0:00:00\u001b[0m\n",
            "\u001b[?25hDownloading cycler-0.12.1-py3-none-any.whl (8.3 kB)\n",
            "Downloading fonttools-4.43.1-cp310-cp310-manylinux_2_17_x86_64.manylinux2014_x86_64.whl (4.5 MB)\n",
            "\u001b[2K   \u001b[90m━━━━━━━━━━━━━━━━━━━━━━━━━━━━━━━━━━━━━━━━\u001b[0m \u001b[32m4.5/4.5 MB\u001b[0m \u001b[31m16.7 MB/s\u001b[0m eta \u001b[36m0:00:00\u001b[0m00:01\u001b[0m00:01\u001b[0m\n",
            "\u001b[?25hDownloading kiwisolver-1.4.5-cp310-cp310-manylinux_2_12_x86_64.manylinux2010_x86_64.whl (1.6 MB)\n",
            "\u001b[2K   \u001b[90m━━━━━━━━━━━━━━━━━━━━━━━━━━━━━━━━━━━━━━━━\u001b[0m \u001b[32m1.6/1.6 MB\u001b[0m \u001b[31m19.2 MB/s\u001b[0m eta \u001b[36m0:00:00\u001b[0m00:01\u001b[0m00:01\u001b[0m\n",
            "\u001b[?25hUsing cached pyparsing-3.1.1-py3-none-any.whl (103 kB)\n",
            "Installing collected packages: pyparsing, kiwisolver, fonttools, cycler, contourpy, matplotlib\n",
            "Successfully installed contourpy-1.1.1 cycler-0.12.1 fonttools-4.43.1 kiwisolver-1.4.5 matplotlib-3.8.0 pyparsing-3.1.1\n"
          ]
        }
      ],
      "source": [
        "!pip install matplotlib"
      ]
    },
    {
      "cell_type": "code",
      "execution_count": 32,
      "metadata": {},
      "outputs": [
        {
          "name": "stdout",
          "output_type": "stream",
          "text": [
            "5.156415694591728\n"
          ]
        },
        {
          "data": {
            "text/plain": [
              "<Axes: ylabel='Frequency'>"
            ]
          },
          "execution_count": 32,
          "metadata": {},
          "output_type": "execute_result"
        },
        {
          "data": {
            "image/png": "[encoded data removed]",
            "text/plain": [
              "<Figure size 640x480 with 1 Axes>"
            ]
          },
          "metadata": {},
          "output_type": "display_data"
        }
      ],
      "source": [
        "import matplotlib.pyplot as plt\n",
        "# count of reviews per course\n",
        "count = df_only_relevant['course'].value_counts()\n",
        "print(np.mean(count))\n",
        "# show graph of count\n",
        "count.plot.hist(bins=100)"
      ]
    },
    {
      "cell_type": "code",
      "execution_count": 46,
      "metadata": {},
      "outputs": [
        {
          "data": {
            "text/plain": [
              "<Axes: ylabel='Frequency'>"
            ]
          },
          "execution_count": 46,
          "metadata": {},
          "output_type": "execute_result"
        },
        {
          "data": {
            "image/png": "[encoded data removed]",
            "text/plain": [
              "<Figure size 640x480 with 1 Axes>"
            ]
          },
          "metadata": {},
          "output_type": "display_data"
        }
      ],
      "source": [
        "# count positive reviews without 0 for histogram\n",
        "count = df_only_relevant[df_only_relevant['total_votes'] != 0].value_counts()\n",
        "count.plot.hist(bins=100)"
      ]
    },
    {
      "cell_type": "code",
      "execution_count": 40,
      "metadata": {},
      "outputs": [
        {
          "name": "stdout",
          "output_type": "stream",
          "text": [
            "4.365236796429457\n"
          ]
        }
      ],
      "source": [
        "# remove 0s from upvotes\n",
        "df_zoom = df_only_relevant[df_only_relevant['upvotes'] != 0]\n",
        "mean_upvotes = np.mean(df_zoom['upvotes'])\n",
        "print(mean_upvotes)"
      ]
    },
    {
      "cell_type": "code",
      "execution_count": null,
      "metadata": {},
      "outputs": [],
      "source": []
    },
    {
      "cell_type": "markdown",
      "metadata": {},
      "source": [
        "# Using stuff from lecture instead of just HuggingFace models (even though some of them are also on HuggingFace ^^)"
      ]
    },
    {
      "cell_type": "code",
      "execution_count": null,
      "metadata": {},
      "outputs": [
        {
          "name": "stderr",
          "output_type": "stream",
          "text": [
            "/home/liamt/Uni/Master/HS23/EITASP/Essentials-in-Text-and-Speech-Processing/.venv/lib/python3.10/site-packages/tqdm/auto.py:21: TqdmWarning: IProgress not found. Please update jupyter and ipywidgets. See https://ipywidgets.readthedocs.io/en/stable/user_install.html\n",
            "  from .autonotebook import tqdm as notebook_tqdm\n"
          ]
        },
        {
          "name": "stdout",
          "output_type": "stream",
          "text": [
            "Sentence: This framework generates embeddings for each input sentence\n",
            "Embedding: [-1.37173245e-02 -4.28515784e-02 -1.56286154e-02  1.40537424e-02\n",
            "  3.95537950e-02  1.21796258e-01  2.94333603e-02 -3.17524038e-02\n",
            "  3.54959220e-02 -7.93140531e-02  1.75878778e-02 -4.04369682e-02\n",
            "  4.97259684e-02  2.54913121e-02 -7.18700141e-02  8.14968273e-02\n",
            "  1.47072074e-03  4.79627810e-02 -4.50336188e-02 -9.92174670e-02\n",
            " -2.81769913e-02  6.45045862e-02  4.44670841e-02 -4.76217493e-02\n",
            " -3.52952518e-02  4.38671485e-02 -5.28566614e-02  4.33013309e-04\n",
            "  1.01921499e-01  1.64072365e-02  3.26996930e-02 -3.45987044e-02\n",
            "  1.21339653e-02  7.94871002e-02  4.58347425e-03  1.57778990e-02\n",
            " -9.68204997e-03  2.87626125e-02 -5.05806692e-02 -1.55794052e-02\n",
            " -2.87907068e-02 -9.62282438e-03  3.15556005e-02  2.27349456e-02\n",
            "  8.71449709e-02 -3.85027714e-02 -8.84718746e-02 -8.75497144e-03\n",
            " -2.12343540e-02  2.08924171e-02 -9.02078003e-02 -5.25733083e-02\n",
            " -1.05638858e-02  2.88311057e-02 -1.61455423e-02  6.17839489e-03\n",
            " -1.23234401e-02 -1.07337423e-02  2.83354037e-02 -5.28568178e-02\n",
            " -3.58618274e-02 -5.97989261e-02 -1.09055033e-02  2.91566905e-02\n",
            "  7.97979459e-02 -3.27863207e-04  6.83500618e-03  1.32718422e-02\n",
            " -4.24620062e-02  1.87656712e-02 -9.89234895e-02  2.09049527e-02\n",
            " -8.69605690e-02 -1.50152287e-02 -4.86202426e-02  8.04414973e-02\n",
            " -3.67697142e-03 -6.65043965e-02  1.14556789e-01 -3.04228980e-02\n",
            "  2.96631865e-02 -2.80694570e-02  4.64990139e-02 -2.25513969e-02\n",
            "  8.54223743e-02  3.15446481e-02  7.34541938e-02 -2.21861396e-02\n",
            " -5.29679060e-02  1.27130421e-02 -5.27339466e-02 -1.06188737e-01\n",
            "  7.04731867e-02  2.76736505e-02 -8.05531517e-02  2.39649378e-02\n",
            " -2.65125465e-02 -2.17330456e-02  4.35275398e-02  4.84712012e-02\n",
            " -2.37067677e-02  2.85768546e-02  1.11846179e-01 -6.34935126e-02\n",
            " -1.58318114e-02 -2.26169489e-02 -1.31028201e-02 -1.62071723e-03\n",
            " -3.60928997e-02 -9.78297740e-02 -4.67729159e-02  1.76271815e-02\n",
            " -3.97492200e-02 -1.76402275e-04  3.39628123e-02 -2.09633559e-02\n",
            "  6.33659633e-03 -2.59410385e-02  8.10411349e-02  6.14393465e-02\n",
            " -5.44603681e-03  6.48275390e-02 -1.16844043e-01  2.36860868e-02\n",
            " -1.32058281e-02 -1.12476513e-01  1.90049578e-02 -1.74662114e-34\n",
            "  5.58949038e-02  1.94245260e-02  4.65438850e-02  5.18645793e-02\n",
            "  3.89390327e-02  3.40541080e-02 -4.32114713e-02  7.90637136e-02\n",
            " -9.79529992e-02 -1.27441119e-02 -2.91871093e-02  1.02052707e-02\n",
            "  1.88116264e-02  1.08942553e-01  6.63465038e-02 -5.35295308e-02\n",
            " -3.29228789e-02  4.69827540e-02  2.28882786e-02  2.74114702e-02\n",
            " -2.91982796e-02  3.12706493e-02 -2.22851038e-02 -1.02282159e-01\n",
            " -2.79117059e-02  1.13792634e-02  9.06309038e-02 -4.75414619e-02\n",
            " -1.00719005e-01 -1.23231970e-02 -7.96928480e-02 -1.44636864e-02\n",
            " -7.76400939e-02 -7.66919414e-03  9.73952282e-03  2.24205013e-02\n",
            "  7.77268261e-02 -3.17156501e-03  2.11538430e-02 -3.30393910e-02\n",
            "  9.55246575e-03 -3.73011716e-02  2.61360742e-02 -9.79085919e-03\n",
            " -6.31505474e-02  5.77431265e-03 -3.80031504e-02  1.29683940e-02\n",
            " -1.82499420e-02 -1.56283490e-02 -1.23360194e-03  5.55578880e-02\n",
            "  1.13107206e-04 -5.61256558e-02  7.40164965e-02  1.84452031e-02\n",
            " -2.66368613e-02  1.31951449e-02  7.50086755e-02 -2.46797651e-02\n",
            " -3.24006900e-02 -1.57674532e-02 -8.03518575e-03 -5.61321853e-03\n",
            "  1.05687603e-02  3.26160924e-03 -3.91990356e-02 -9.38677713e-02\n",
            "  1.14227146e-01  6.57304749e-02 -4.72633615e-02  1.45087773e-02\n",
            " -3.54489982e-02 -3.37761268e-02 -5.15505634e-02 -3.81002016e-03\n",
            " -5.15036099e-02 -5.93429282e-02 -1.69410708e-03  7.42107555e-02\n",
            " -4.20092046e-02 -7.19975084e-02  3.17250155e-02 -1.66303627e-02\n",
            "  3.96985607e-03 -6.52750582e-02  2.77390853e-02 -7.51649216e-02\n",
            "  2.27455515e-02 -3.91368903e-02  1.54315680e-02 -5.54908253e-02\n",
            "  1.23318890e-02 -2.59520859e-02  6.66423738e-02 -6.91257305e-34\n",
            "  3.31628919e-02  8.47929642e-02 -6.65584505e-02  3.33541781e-02\n",
            "  4.71607875e-03  1.35362083e-02 -5.38694002e-02  9.20694172e-02\n",
            " -2.96876933e-02  3.16219591e-02 -2.37497892e-02  1.98771153e-02\n",
            "  1.03446200e-01 -9.06947181e-02  6.30626315e-03  1.42886406e-02\n",
            "  1.19293937e-02  6.43725554e-03  4.20105271e-02  1.25344153e-02\n",
            "  3.93018983e-02  5.35691231e-02 -4.30749618e-02  6.10432960e-02\n",
            " -5.39587600e-05  6.91682994e-02  1.05520394e-02  1.22111719e-02\n",
            " -7.23185316e-02  2.50469558e-02 -5.18371239e-02 -4.36562337e-02\n",
            " -6.71818405e-02  1.34828687e-02 -7.25888833e-02  7.04163313e-03\n",
            "  6.58938661e-02  1.08994385e-02 -2.60008895e-03  5.49969524e-02\n",
            "  5.06966710e-02  3.27948779e-02 -6.68832660e-02  6.45557493e-02\n",
            " -2.52076369e-02 -2.92571764e-02 -1.16696708e-01  3.24064605e-02\n",
            "  5.85858300e-02 -3.51757072e-02 -7.15240240e-02  2.24936437e-02\n",
            " -1.00786746e-01 -4.74544577e-02 -7.61962757e-02 -5.87166101e-02\n",
            "  4.21139188e-02 -7.47213885e-02  1.98467616e-02 -3.36500281e-03\n",
            " -5.29735833e-02  2.74729636e-02  3.45736556e-02 -6.11846149e-02\n",
            "  1.06364839e-01 -9.64119956e-02 -4.55945320e-02  1.51489154e-02\n",
            " -5.13528194e-03 -6.64447695e-02  4.31721471e-02 -1.10405888e-02\n",
            " -9.80253890e-03  7.53782839e-02 -1.49571253e-02 -4.80208322e-02\n",
            "  5.80726638e-02 -2.43897233e-02 -2.23137848e-02 -4.36992757e-02\n",
            "  5.12054190e-02 -3.28625850e-02  1.08763315e-01  6.08926155e-02\n",
            "  3.30788083e-03  5.53820580e-02  8.43200982e-02  1.27086854e-02\n",
            "  3.84465493e-02  6.52325600e-02 -2.94684116e-02  5.08005507e-02\n",
            " -2.09347885e-02  1.46135673e-01  2.25561466e-02 -1.77227744e-08\n",
            " -5.02672531e-02 -2.79133266e-04 -1.00328572e-01  2.42811292e-02\n",
            " -7.54042864e-02 -3.79139669e-02  3.96050103e-02  3.10080051e-02\n",
            " -9.05705523e-03 -6.50412068e-02  4.05453108e-02  4.83389795e-02\n",
            " -4.56962287e-02  4.76003578e-03  2.64364877e-03  9.35614333e-02\n",
            " -4.02599573e-02  3.27402130e-02  1.18298251e-02  5.54345176e-02\n",
            "  1.48052290e-01  7.21189678e-02  2.76974373e-04  1.68650858e-02\n",
            "  8.34881142e-03 -8.76159873e-03 -1.33649465e-02  6.14236966e-02\n",
            "  1.57167371e-02  6.94960430e-02  1.08621381e-02  6.08018562e-02\n",
            " -5.33420965e-02 -3.47924568e-02 -3.36271934e-02  6.93906546e-02\n",
            "  1.22987861e-02 -1.45237416e-01 -2.06971401e-03 -4.61132862e-02\n",
            "  3.72744724e-03 -5.59349125e-03 -1.00659780e-01 -4.45953086e-02\n",
            "  5.40921465e-02  4.98893298e-03  1.49535313e-02 -8.26059431e-02\n",
            "  6.26630485e-02 -5.01901889e-03 -4.81857248e-02 -3.53991166e-02\n",
            "  9.03387275e-03 -2.42337715e-02  5.66267222e-02  2.51528770e-02\n",
            " -1.70709342e-02 -1.24780377e-02  3.19517963e-02  1.38421003e-02\n",
            " -1.55815240e-02  1.00178249e-01  1.23657271e-01 -4.22967263e-02]\n",
            "\n",
            "Sentence: Sentences are passed as a list of string.\n",
            "Embedding: [ 5.64524941e-02  5.50023727e-02  3.13795209e-02  3.39484625e-02\n",
            " -3.54247019e-02  8.34667534e-02  9.88800526e-02  7.27541605e-03\n",
            " -6.68658828e-03 -7.65812397e-03  7.93738067e-02  7.39726413e-04\n",
            "  1.49291819e-02 -1.51046477e-02  3.67674343e-02  4.78742756e-02\n",
            " -4.81969528e-02 -3.76052000e-02 -4.60278131e-02 -8.89816210e-02\n",
            "  1.20228179e-01  1.30663306e-01 -3.73936184e-02  2.47853063e-03\n",
            "  2.55824346e-03  7.25814849e-02 -6.80436194e-02 -5.24696335e-02\n",
            "  4.90234531e-02  2.99563110e-02 -5.84429391e-02 -2.02262662e-02\n",
            "  2.08821893e-02  9.76691842e-02  3.52390632e-02  3.91141847e-02\n",
            "  1.05668493e-02  1.56236754e-03 -1.30822724e-02  8.52904748e-03\n",
            " -4.84092301e-03 -2.03766320e-02 -2.71801446e-02  2.83308141e-02\n",
            "  3.66017409e-02  2.51276232e-02 -9.90861952e-02  1.15626371e-02\n",
            " -3.60380635e-02 -7.23784417e-02 -1.12670146e-01  1.12942159e-02\n",
            " -3.86398025e-02  4.67386283e-02 -2.88460646e-02  2.26704348e-02\n",
            " -8.52405000e-03  3.32815461e-02 -1.06581370e-03 -7.09745288e-02\n",
            " -6.31170124e-02 -5.72186485e-02 -6.16026297e-02  5.47146611e-02\n",
            "  1.18317883e-02 -4.66261208e-02  2.56959591e-02 -7.07414467e-03\n",
            " -5.73842786e-02  4.12839837e-02 -5.91503456e-02  5.89021929e-02\n",
            " -4.41697240e-02  4.65081632e-02 -3.15814950e-02  5.58312312e-02\n",
            "  5.54578714e-02 -5.96533343e-02  4.06407081e-02  4.83763684e-03\n",
            " -4.96768169e-02 -1.00944363e-01  3.40078510e-02  4.13269596e-03\n",
            " -2.93526938e-03  2.11838074e-02 -3.73962410e-02 -2.79067568e-02\n",
            " -4.61767651e-02  5.26138544e-02 -2.79734954e-02 -1.62379280e-01\n",
            "  6.61042631e-02  1.72274876e-02 -5.45105292e-03  4.74473983e-02\n",
            " -3.82237323e-02 -3.96896526e-02  1.34544726e-02  4.49654087e-02\n",
            "  4.53673070e-03  2.82978769e-02  8.36632699e-02 -1.00857839e-02\n",
            " -1.19354002e-01 -3.84625047e-02  4.82858419e-02 -9.46084410e-02\n",
            "  1.91854481e-02 -9.96518582e-02 -6.30596876e-02  3.02696303e-02\n",
            "  1.17402440e-02 -4.78372425e-02 -6.20269775e-03 -3.32850814e-02\n",
            " -4.04391438e-03  1.28307343e-02  4.05254588e-02  7.56476969e-02\n",
            "  2.92435065e-02  2.84270439e-02 -2.78938077e-02  1.66858211e-02\n",
            " -2.47961152e-02 -6.83651492e-02  2.89968736e-02 -5.39867858e-33\n",
            " -2.69018603e-03 -2.65069380e-02 -6.47934619e-04 -8.46198853e-03\n",
            " -7.35154971e-02  4.94083948e-03 -5.97841851e-02  1.03438161e-02\n",
            "  2.12905789e-03 -2.88215955e-03 -3.17076407e-02 -9.42364633e-02\n",
            "  3.03019825e-02  7.00227693e-02  4.50685024e-02  3.69439386e-02\n",
            "  1.13593535e-02  3.53027135e-02  5.50446892e-03  1.34415156e-03\n",
            "  3.46124964e-03  7.75048062e-02  5.45112491e-02 -7.92055875e-02\n",
            " -9.31697339e-02 -4.03398722e-02  3.10668889e-02 -3.83081585e-02\n",
            " -5.89442514e-02  1.93332173e-02 -2.67160013e-02 -7.91938528e-02\n",
            "  1.04184845e-04  7.70621002e-02  4.16604020e-02  8.90932605e-02\n",
            "  3.56843136e-02 -1.09152747e-02  3.71498652e-02 -2.07070783e-02\n",
            " -2.46100631e-02 -2.05025058e-02  2.62201577e-02  3.43590379e-02\n",
            "  4.39251140e-02 -8.20520334e-03 -8.40710327e-02  4.24171016e-02\n",
            "  4.87498529e-02  5.95385060e-02  2.87747774e-02  3.37638445e-02\n",
            " -4.07442674e-02 -1.66373164e-03  7.91927502e-02  3.41088399e-02\n",
            " -5.72838995e-04  1.87749453e-02 -1.36964647e-02  7.38333240e-02\n",
            "  5.74454141e-04  8.33505392e-02  5.60810827e-02 -1.13710798e-02\n",
            "  4.42611389e-02  2.69582104e-02 -4.80536632e-02 -3.15087475e-02\n",
            "  7.75226578e-02  1.81773454e-02 -8.83005187e-02 -7.85513222e-03\n",
            " -6.22243434e-02  7.19372705e-02 -2.33474914e-02  6.52477192e-03\n",
            " -9.49526764e-03 -9.88312736e-02  4.01306599e-02  3.07396557e-02\n",
            " -2.21606847e-02 -9.45911184e-02  1.02367811e-02  1.02187760e-01\n",
            " -4.12960388e-02 -3.15777585e-02  4.74752188e-02 -1.10209800e-01\n",
            "  1.69614572e-02 -3.71709317e-02 -1.03261890e-02 -4.72538695e-02\n",
            " -1.20214475e-02 -1.93255469e-02  5.79292476e-02  4.23865401e-34\n",
            "  3.92013267e-02  8.41361359e-02 -1.02946743e-01  6.92259967e-02\n",
            "  1.68821216e-02 -3.26760337e-02  9.65957157e-03  1.80899501e-02\n",
            "  2.17940081e-02  1.63189303e-02 -9.69292596e-02  3.74852004e-03\n",
            " -2.38457043e-02 -3.44055817e-02  7.11962804e-02  9.21912026e-04\n",
            " -6.23863097e-03  3.23754698e-02 -8.90360097e-04  5.01905195e-03\n",
            " -4.24538292e-02  9.89083722e-02 -4.60320786e-02  4.69704643e-02\n",
            " -1.75283961e-02 -7.02516083e-03  1.32743781e-02 -5.30152433e-02\n",
            "  2.66404753e-03  1.45819252e-02  7.43346289e-03 -3.07131857e-02\n",
            " -2.09416877e-02  8.24110135e-02 -5.15893735e-02 -2.71178186e-02\n",
            "  1.17583051e-01  7.72501901e-03 -1.89523306e-02  3.94559503e-02\n",
            "  7.17360452e-02  2.59117242e-02  2.75191925e-02  9.50540882e-03\n",
            " -3.02355383e-02 -4.07944992e-02 -1.04028471e-01 -7.97417015e-03\n",
            " -3.64453322e-03  3.29716206e-02 -2.35954430e-02 -7.50516541e-03\n",
            " -5.82234003e-02 -3.17906514e-02 -4.18048836e-02  2.17453502e-02\n",
            " -6.67292625e-02 -4.89104465e-02  4.58515901e-03 -2.66045760e-02\n",
            " -1.12597004e-01  5.11167273e-02  5.48534282e-02 -6.69857934e-02\n",
            "  1.26766324e-01 -8.59487429e-02 -5.94231859e-02 -2.92187394e-03\n",
            " -1.14875520e-02 -1.26025811e-01 -3.48280673e-03 -9.12002251e-02\n",
            " -1.22933112e-01  1.33777261e-02 -4.75775525e-02 -6.57933429e-02\n",
            " -3.39409672e-02 -3.07108145e-02 -5.22034243e-02 -2.35464051e-02\n",
            "  5.90034984e-02 -3.85758094e-02  3.19700651e-02  4.05118391e-02\n",
            "  1.67077947e-02 -3.58281657e-02  1.45688169e-02  3.20137590e-02\n",
            " -1.34843383e-02  6.07819706e-02 -8.31397530e-03 -1.08105876e-02\n",
            "  4.69410457e-02  7.66133741e-02 -4.23400216e-02 -2.11963300e-08\n",
            " -7.25292936e-02 -4.20227833e-02 -6.12374730e-02  5.24666868e-02\n",
            " -1.42364167e-02  1.18487114e-02 -1.40789226e-02 -3.67530324e-02\n",
            " -4.44977544e-02 -1.15141189e-02  5.23317307e-02  2.96651982e-02\n",
            " -4.62780371e-02 -3.70892137e-02  1.89129561e-02  2.04307158e-02\n",
            " -2.24005971e-02 -1.48563227e-02 -1.79504156e-02  4.20007966e-02\n",
            "  1.40942335e-02 -2.83492859e-02 -1.16863012e-01  1.48956589e-02\n",
            " -7.30590196e-04  5.66028543e-02 -2.68739834e-02  1.09106742e-01\n",
            "  2.94565270e-03  1.19267911e-01  1.14212438e-01  8.92974213e-02\n",
            " -1.70254856e-02 -4.99054007e-02 -2.11930946e-02  3.18421349e-02\n",
            "  7.03435689e-02 -1.02929391e-01  8.23816508e-02  2.81968247e-02\n",
            "  3.21146064e-02  3.79107967e-02 -1.09553069e-01  8.19620863e-02\n",
            "  8.73216838e-02 -5.73563911e-02 -2.01709270e-02 -5.69444187e-02\n",
            " -1.30338455e-02 -5.55684343e-02 -1.32966535e-02  8.64013005e-03\n",
            "  5.30012436e-02 -4.06846814e-02  2.71709394e-02 -2.55947700e-03\n",
            "  3.05775106e-02 -4.61865515e-02  4.68029827e-03 -3.64946984e-02\n",
            "  6.80802688e-02  6.65087402e-02  8.49151686e-02 -3.32849286e-02]\n",
            "\n",
            "Sentence: The quick brown fox jumps over the lazy dog.\n",
            "Embedding: [ 4.39335555e-02  5.89343309e-02  4.81783971e-02  7.75480270e-02\n",
            "  2.67443899e-02 -3.76295745e-02 -2.60507478e-03 -5.99430762e-02\n",
            " -2.49605067e-03  2.20728628e-02  4.80259508e-02  5.57552762e-02\n",
            " -3.89454328e-02 -2.66168267e-02  7.69350119e-03 -2.62376051e-02\n",
            " -3.64160575e-02 -3.78161408e-02  7.40781352e-02 -4.95050400e-02\n",
            " -5.85216805e-02 -6.36197776e-02  3.24349701e-02  2.20085327e-02\n",
            " -7.10637271e-02 -3.31577919e-02 -6.94103763e-02 -5.00374325e-02\n",
            "  7.46267810e-02 -1.11133814e-01 -1.23063223e-02  3.77455913e-02\n",
            " -2.80313399e-02  1.45353591e-02 -3.15585509e-02 -8.05836394e-02\n",
            "  5.83526045e-02  2.59011309e-03  3.92801985e-02  2.57695820e-02\n",
            "  4.98505309e-02 -1.75617286e-03 -4.55297902e-02  2.92607881e-02\n",
            " -1.02017269e-01  5.22287525e-02 -7.90899470e-02 -1.02857696e-02\n",
            "  9.20243748e-03  1.30732479e-02 -4.04777750e-02 -2.77925134e-02\n",
            "  1.24667650e-02  6.72833547e-02  6.81247860e-02 -7.57123390e-03\n",
            " -6.09949231e-03 -4.23777290e-02  5.17815873e-02 -1.56707074e-02\n",
            "  9.56353918e-03  4.12390344e-02  2.14959905e-02  1.04293115e-02\n",
            "  2.73349527e-02  1.87061969e-02 -2.69607399e-02 -7.00541437e-02\n",
            " -1.04700461e-01 -1.89871935e-03  1.77016873e-02 -5.74725904e-02\n",
            " -1.44223515e-02  4.70442697e-04  2.33231182e-03 -2.51920670e-02\n",
            "  4.93003801e-02 -5.09609617e-02  6.31982908e-02  1.49165587e-02\n",
            " -2.70766877e-02 -4.52875160e-02 -4.90594059e-02  3.74940708e-02\n",
            "  3.84579562e-02  1.56905060e-03  3.09922192e-02  2.01630276e-02\n",
            " -1.24363424e-02 -3.06719597e-02 -2.78818905e-02 -6.89182580e-02\n",
            " -5.13677485e-02  2.14795675e-02  1.15747331e-02  1.25404575e-03\n",
            "  1.88765582e-02 -4.42319326e-02 -4.49816398e-02 -3.41870077e-03\n",
            "  1.31131364e-02  2.00100299e-02  1.21099778e-01  2.31075231e-02\n",
            " -2.20159814e-02 -3.28846909e-02 -3.15514463e-03  1.17773110e-04\n",
            "  9.91498753e-02  1.65239144e-02 -4.69665648e-03 -1.45366201e-02\n",
            " -3.71072418e-03  9.65135992e-02  2.85908207e-02  2.13482101e-02\n",
            " -7.17645064e-02 -2.41142046e-02 -4.40940633e-02 -1.07346937e-01\n",
            "  6.79945275e-02  1.30466759e-01 -7.97029734e-02  6.79508829e-03\n",
            " -2.37512048e-02 -4.61636297e-02 -2.99650524e-02 -3.69409973e-33\n",
            "  7.30969459e-02 -2.20172014e-02 -8.61464515e-02 -7.14379698e-02\n",
            " -6.36741593e-02 -7.21863210e-02 -5.93038648e-03 -2.33642273e-02\n",
            " -2.83658747e-02  4.77434509e-02 -8.06176886e-02 -1.56477664e-03\n",
            "  1.38444277e-02 -2.86235474e-02 -3.35387401e-02 -1.13777518e-01\n",
            " -9.17637162e-03 -1.08101061e-02  3.23196575e-02  5.88380434e-02\n",
            "  3.34208794e-02  1.07987970e-01 -3.72712985e-02 -2.96770856e-02\n",
            "  5.17189391e-02 -2.25338750e-02 -6.96090311e-02 -2.14475263e-02\n",
            " -2.33410466e-02  4.82199937e-02 -3.58766615e-02 -4.68990915e-02\n",
            " -3.97873372e-02  1.10813275e-01 -1.43007487e-02 -1.18464477e-01\n",
            "  5.82914725e-02 -6.25888929e-02 -2.94040293e-02  6.03238493e-02\n",
            " -2.44415086e-03  1.60116013e-02  2.67233327e-02  2.49530580e-02\n",
            " -6.49318919e-02 -1.06802545e-02  2.81464271e-02  1.03563368e-02\n",
            " -6.63570885e-04  1.98185984e-02 -3.04288901e-02  6.28416473e-03\n",
            "  5.15268221e-02 -4.75375541e-02 -6.44421875e-02  9.55032185e-02\n",
            "  7.55858198e-02 -2.81574987e-02 -3.49965692e-02  1.01816371e-01\n",
            "  1.98731869e-02 -3.68036628e-02  2.93529150e-03 -5.00745550e-02\n",
            "  1.50932163e-01 -6.16079830e-02 -8.58812481e-02  7.13992817e-03\n",
            " -1.33065274e-02  7.80404955e-02  1.75250676e-02  4.21279371e-02\n",
            "  3.57939862e-02 -1.32950455e-01  3.56970765e-02 -2.03116778e-02\n",
            "  1.24909990e-02 -3.80355082e-02  4.91543002e-02 -1.56540945e-02\n",
            "  1.21418327e-01 -8.08644667e-02 -4.68781739e-02  4.10843380e-02\n",
            " -1.84318051e-02  6.69690669e-02  4.33595246e-03  2.27315556e-02\n",
            " -1.36429127e-02 -4.53238115e-02 -3.92829590e-02 -6.29891595e-03\n",
            "  5.29609658e-02 -3.69064249e-02  7.11677223e-02  2.33343214e-33\n",
            "  1.05231419e-01 -4.81874496e-02  6.95919245e-02  6.56976327e-02\n",
            " -4.65149507e-02  5.14492169e-02 -1.24475379e-02  3.20872590e-02\n",
            " -9.23356414e-02  5.00933230e-02 -3.28876413e-02  1.39139164e-02\n",
            " -8.70261982e-04 -4.90902504e-03  1.03946388e-01  3.21571482e-04\n",
            "  5.28109781e-02 -1.17989630e-02  2.31565367e-02  1.31767998e-02\n",
            " -5.25963344e-02  3.26701403e-02  3.08718678e-04  6.41128644e-02\n",
            "  3.88501063e-02  5.88008314e-02  8.29792470e-02 -1.88149363e-02\n",
            " -2.26377156e-02 -1.00473687e-01 -3.83752175e-02 -5.88081218e-02\n",
            "  1.82426278e-03 -4.26995307e-02  2.50195358e-02  6.40059784e-02\n",
            " -3.77482511e-02 -6.83903787e-03 -2.54601380e-03 -9.76043195e-02\n",
            "  1.88475903e-02 -8.83140077e-04  1.73611548e-02  7.10790232e-02\n",
            "  3.30393128e-02  6.93425583e-03 -5.60523383e-02  5.14634252e-02\n",
            " -4.29542027e-02  4.60076779e-02 -8.78832210e-03  3.17289196e-02\n",
            "  4.93965261e-02  2.95189545e-02 -5.05191870e-02 -5.43187000e-02\n",
            "  1.50024061e-04 -2.76613925e-02  3.46878022e-02 -2.10890006e-02\n",
            "  1.38059799e-02  2.99886595e-02  1.39745465e-02 -4.26479522e-03\n",
            " -1.50336847e-02 -8.76095146e-02 -6.85053766e-02 -4.28142026e-02\n",
            "  7.76945129e-02 -7.10286051e-02 -7.37698330e-03  2.13727951e-02\n",
            "  1.35562895e-02 -7.90465251e-02  5.47671830e-03  8.30663443e-02\n",
            "  1.14148043e-01  1.80760026e-03  8.75490978e-02 -4.16044891e-02\n",
            "  1.55416764e-02 -1.01206293e-02 -7.32438127e-03  1.07965618e-02\n",
            " -6.62816614e-02  3.98414023e-02 -1.16711512e-01  6.42993972e-02\n",
            "  4.02919762e-02 -6.54742122e-02  1.95052605e-02  8.09996128e-02\n",
            "  5.36463559e-02  7.67969713e-02 -1.34852789e-02 -1.76919048e-08\n",
            " -4.43935096e-02  9.20645706e-03 -8.79589915e-02  4.26921658e-02\n",
            "  7.31365085e-02  1.68427508e-02 -4.03263234e-02  1.85131971e-02\n",
            "  8.44172090e-02 -3.74477059e-02  3.02996803e-02  2.90641580e-02\n",
            "  6.36879206e-02  2.89750062e-02 -1.47270290e-02  1.77542157e-02\n",
            " -3.36895399e-02  1.73160955e-02  3.37875448e-02  1.76826105e-01\n",
            " -1.75533108e-02 -6.03077710e-02 -1.43393995e-02 -2.38536634e-02\n",
            " -4.45530526e-02 -2.89850291e-02 -8.96776393e-02 -1.75932737e-03\n",
            " -2.61486135e-02  5.93997585e-03 -5.18355295e-02  8.57279524e-02\n",
            " -8.18398893e-02  8.35443754e-03  4.00789902e-02  4.17763777e-02\n",
            "  1.04573503e-01 -2.86561670e-03  1.96691025e-02  5.81049873e-03\n",
            "  1.33253112e-02  4.51000817e-02 -2.17588097e-02 -1.39493104e-02\n",
            " -6.86992407e-02 -2.94108782e-03 -3.10765170e-02 -1.05854422e-01\n",
            "  6.91623539e-02 -4.24114354e-02 -4.67682555e-02 -3.64751741e-02\n",
            "  4.50400338e-02  6.09816983e-02 -6.56561777e-02 -5.45644760e-03\n",
            " -1.86226889e-02 -6.31484762e-02 -3.87436412e-02  3.46733667e-02\n",
            "  5.55457957e-02  5.21628112e-02  5.61064929e-02  1.02063954e-01]\n",
            "\n"
          ]
        }
      ],
      "source": [
        "from sentence_transformers import SentenceTransformer\n",
        "model = SentenceTransformer('all-MiniLM-L6-v2')\n",
        "\n",
        "embeddings = model.encode(df['review_text'], convert_to_tensor=True)\n"
      ]
    },
    {
      "cell_type": "markdown",
      "metadata": {},
      "source": [
        "# HuggingFace BERT based model"
      ]
    },
    {
      "cell_type": "code",
      "execution_count": null,
      "metadata": {
        "id": "YgZh3EGsQL6z"
      },
      "outputs": [],
      "source": [
        "from transformers import AutoTokenizer, AutoModel\n",
        "\n",
        "tokenizer = AutoTokenizer.from_pretrained(\"bert-base-german-cased\")\n",
        "model = AutoModel.from_pretrained(\"bert-base-german-cased\")\n",
        "df_only_relevant['tokens'] = df_only_relevant['review'].astype(str).apply(tokenizer)\n",
        "df_only_relevant\n",
        "df_only_relevant.to_csv('/content/drive/My Drive/Colab/Uni/HS23/EITASP/tokenized.csv', index=False)\n",
        "\n",
        "df = df_only_relevant\n",
        "from sklearn.linear_model import LogisticRegression\n",
        "from sklearn.metrics import accuracy_score, classification_report\n",
        "import numpy as np\n",
        "\n",
        "# Pad or truncate the tokenized sequences to a fixed length\n",
        "max_length = 512  # You can adjust this based on the data\n",
        "X_train_padded = np.array([x[:max_length] + [0]*(max_length - len(x)) for x in X_train])\n",
        "X_test_padded = np.array([x[:max_length] + [0]*(max_length - len(x)) for x in X_test])\n",
        "\n",
        "# Initialize and train the Logistic Regression model\n",
        "log_reg = LogisticRegression(max_iter=1000, random_state=42)\n",
        "log_reg.fit(X_train_padded, y_train)\n",
        "\n",
        "# Make predictions on the test set\n",
        "y_pred = log_reg.predict(X_test_padded)\n",
        "\n",
        "# Evaluate the model\n",
        "accuracy = accuracy_score(y_test, y_pred)\n",
        "classification_rep = classification_report(y_test, y_pred)\n",
        "\n",
        "accuracy, classification_rep\n",
        "\n",
        "from transformers import BertForSequenceClassification\n",
        "from torch.utils.data import DataLoader, TensorDataset\n",
        "import torch.optim as optim\n",
        "import torch\n",
        "from sklearn.model_selection import train_test_split\n",
        "import pandas as pd\n",
        "\n",
        "# Extract 'input_ids' from the 'BatchEncoding' objects and labels\n",
        "X = df['tokens'].apply(lambda x: x['input_ids'])\n",
        "y = df['useful']\n",
        "\n",
        "# Split the data\n",
        "X_train, X_test, y_train, y_test = train_test_split(X, y, test_size=0.2, random_state=42)\n",
        "\n",
        "# Initialize the model\n",
        "model = BertForSequenceClassification.from_pretrained('google/bert_uncased_L-4_H-256_A-4', num_labels=2)\n",
        "\n",
        "# Pad or truncate the tokenized sequences to a fixed length\n",
        "max_length = 512  # You can adjust this based on the data\n",
        "X_train_padded = [x[:max_length] + [0]*(max_length - len(x)) for x in X_train]\n",
        "X_test_padded = [x[:max_length] + [0]*(max_length - len(x)) for x in X_test]\n",
        "\n",
        "# Create DataLoader for training\n",
        "train_dataset = TensorDataset(torch.tensor(X_train_padded, dtype=torch.long), torch.tensor(list(y_train), dtype=torch.long))\n",
        "train_loader = DataLoader(train_dataset, batch_size=4, shuffle=True)\n",
        "\n",
        "# Create DataLoader for testing\n",
        "test_dataset = TensorDataset(torch.tensor(X_test_padded, dtype=torch.long), torch.tensor(list(y_test), dtype=torch.long))\n",
        "test_loader = DataLoader(test_dataset, batch_size=4, shuffle=False)\n",
        "\n",
        "\n",
        "# Define optimizer and loss function\n",
        "optimizer = optim.AdamW(model.parameters(), lr=1e-5)\n",
        "loss_fn = torch.nn.CrossEntropyLoss()\n",
        "\n",
        "# Training loop\n",
        "for epoch in range(1):  # Number of epochs\n",
        "    model.train()\n",
        "    for i, batch in enumerate(train_loader):\n",
        "        input_ids, labels = batch\n",
        "        optimizer.zero_grad()\n",
        "        outputs = model(input_ids)[0]\n",
        "        loss = loss_fn(outputs, labels)\n",
        "        loss.backward()\n",
        "        optimizer.step()\n",
        "\n",
        "        if i % 100 == 0:\n",
        "            print(f\"Epoch: {epoch}, Iteration: {i}, Loss: {loss.item()}\")\n",
        "\n",
        "# Evaluation\n",
        "model.eval()\n",
        "correct = 0\n",
        "total = 0\n",
        "with torch.no_grad():\n",
        "    for input_ids, labels in test_loader:\n",
        "        outputs = model(input_ids)[0]\n",
        "        _, predicted = torch.max(outputs, 1)\n",
        "        total += labels.size(0)\n",
        "        correct += (predicted == labels).sum().item()\n",
        "\n",
        "print(f\"Test Accuracy: {100 * correct / total}\")\n"
      ]
    }
  ],
  "metadata": {
    "accelerator": "GPU",
    "colab": {
      "gpuType": "T4",
      "include_colab_link": true,
      "provenance": []
    },
    "kernelspec": {
      "display_name": "Python 3",
      "name": "python3"
    },
    "language_info": {
      "codemirror_mode": {
        "name": "ipython",
        "version": 3
      },
      "file_extension": ".py",
      "mimetype": "text/x-python",
      "name": "python",
      "nbconvert_exporter": "python",
      "pygments_lexer": "ipython3",
      "version": "3.10.12"
    }
  },
  "nbformat": 4,
  "nbformat_minor": 0
}

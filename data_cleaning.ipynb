{
 "cells": [
  {
   "cell_type": "code",
   "execution_count": 4,
   "metadata": {},
   "outputs": [
    {
     "name": "stdout",
     "output_type": "stream",
     "text": [
      "                        _id  \\\n",
      "0  5a5b6dfbaf6c59001a536aeb   \n",
      "1  5a5b70abaf6c59001a536b07   \n",
      "2  5a5b729faf6c59001a536b13   \n",
      "3  5a5b7ae5af6c59001a536b80   \n",
      "4  5a5b7d07af6c59001a536b87   \n",
      "\n",
      "                                              review  score university  \\\n",
      "0  interessantes aber sehr aufwändiges Fach. Die ...      3        UZH   \n",
      "1  Warum wird Moodle Verwendet & nicht OLAT?\\nAns...      4        UZH   \n",
      "2  langwiilig, Management teil nutzlos, nur uswän...      2        UZH   \n",
      "3  In diesem Fach zeichnet man Flowcharts und Pro...      3        UZH   \n",
      "4  weiss nöd warum so viel klaget. de dozent isch...      5        UZH   \n",
      "\n",
      "     course  upvotes  downvotes           date  \\\n",
      "0  50314925      0.0        1.0  1562135719091   \n",
      "1  50038004      4.0        8.0  1538035078776   \n",
      "2  50038000      0.0        1.0  1642090754318   \n",
      "3  50330434      0.0        0.0  1515945190594   \n",
      "4  50030887      1.0        0.0  1655832259676   \n",
      "\n",
      "                                          courseName  \\\n",
      "0                                Asset Pricing (V+Ü)   \n",
      "1                 Mathematik I (V+Ü) (Mathematics I)   \n",
      "2  Betriebswirtschaftslehre I (V + Ü) (Business A...   \n",
      "3  Wirtschaftsinformatik (V+Ü) (Business Informat...   \n",
      "4                       Statistik (V+Ü) (Statistics)   \n",
      "\n",
      "              courseNameShort  \n",
      "0               Asset Pricing  \n",
      "1                Mathematik I  \n",
      "2  Betriebswirtschaftslehre I  \n",
      "3       Wirtschaftsinformatik  \n",
      "4                   Statistik  \n"
     ]
    }
   ],
   "source": [
    "import json\n",
    "import pandas as pd\n",
    "\n",
    "with open('Bestande-Ratings.json') as f:\n",
    "    data = json.load(f)\n",
    "\n",
    "# convert to pandas dataframe\n",
    "df = pd.DataFrame(data)\n",
    "print(df.head())"
   ]
  },
  {
   "cell_type": "code",
   "execution_count": null,
   "metadata": {},
   "outputs": [],
   "source": [
    "df.to_csv('Bestande-Ratings.csv', index=False)"
   ]
  },
  {
   "cell_type": "code",
   "execution_count": 9,
   "metadata": {},
   "outputs": [
    {
     "data": {
      "text/plain": [
       "10099"
      ]
     },
     "execution_count": 9,
     "metadata": {},
     "output_type": "execute_result"
    }
   ],
   "source": [
    "# count amount of reviews that have a review text\n",
    "df['review'].count()"
   ]
  }
 ],
 "metadata": {
  "kernelspec": {
   "display_name": "venv",
   "language": "python",
   "name": "python3"
  },
  "language_info": {
   "codemirror_mode": {
    "name": "ipython",
    "version": 3
   },
   "file_extension": ".py",
   "mimetype": "text/x-python",
   "name": "python",
   "nbconvert_exporter": "python",
   "pygments_lexer": "ipython3",
   "version": "3.10.12"
  },
  "orig_nbformat": 4
 },
 "nbformat": 4,
 "nbformat_minor": 2
}

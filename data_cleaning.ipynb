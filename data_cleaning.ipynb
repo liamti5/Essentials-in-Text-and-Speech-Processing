{
 "cells": [
  {
   "cell_type": "code",
   "execution_count": 32,
   "metadata": {},
   "outputs": [
    {
     "name": "stdout",
     "output_type": "stream",
     "text": [
      "                        _id  \\\n",
      "0  5a5b6dfbaf6c59001a536aeb   \n",
      "1  5a5b70abaf6c59001a536b07   \n",
      "2  5a5b729faf6c59001a536b13   \n",
      "3  5a5b7ae5af6c59001a536b80   \n",
      "4  5a5b7d07af6c59001a536b87   \n",
      "\n",
      "                                              review  score university  \\\n",
      "0  interessantes aber sehr aufwändiges Fach. Die ...      3        UZH   \n",
      "1  Warum wird Moodle Verwendet & nicht OLAT?\\nAns...      4        UZH   \n",
      "2  langwiilig, Management teil nutzlos, nur uswän...      2        UZH   \n",
      "3  In diesem Fach zeichnet man Flowcharts und Pro...      3        UZH   \n",
      "4  weiss nöd warum so viel klaget. de dozent isch...      5        UZH   \n",
      "\n",
      "     course  upvotes  downvotes           date  \\\n",
      "0  50314925      0.0        1.0  1562135719091   \n",
      "1  50038004      4.0        8.0  1538035078776   \n",
      "2  50038000      0.0        1.0  1642090754318   \n",
      "3  50330434      0.0        0.0  1515945190594   \n",
      "4  50030887      1.0        0.0  1655832259676   \n",
      "\n",
      "                                          courseName  \\\n",
      "0                                Asset Pricing (V+Ü)   \n",
      "1                 Mathematik I (V+Ü) (Mathematics I)   \n",
      "2  Betriebswirtschaftslehre I (V + Ü) (Business A...   \n",
      "3  Wirtschaftsinformatik (V+Ü) (Business Informat...   \n",
      "4                       Statistik (V+Ü) (Statistics)   \n",
      "\n",
      "              courseNameShort  \n",
      "0               Asset Pricing  \n",
      "1                Mathematik I  \n",
      "2  Betriebswirtschaftslehre I  \n",
      "3       Wirtschaftsinformatik  \n",
      "4                   Statistik  \n"
     ]
    }
   ],
   "source": [
    "import json\n",
    "import pandas as pd\n",
    "\n",
    "with open('Bestande-Ratings.json') as f:\n",
    "    data = json.load(f)\n",
    "\n",
    "# convert to pandas dataframe\n",
    "df = pd.DataFrame(data)\n",
    "print(df.head())"
   ]
  },
  {
   "cell_type": "code",
   "execution_count": 33,
   "metadata": {},
   "outputs": [],
   "source": [
    "df.to_csv('Bestande-Ratings.csv', index=False)"
   ]
  },
  {
   "cell_type": "code",
   "execution_count": 34,
   "metadata": {},
   "outputs": [
    {
     "name": "stdout",
     "output_type": "stream",
     "text": [
      "70503\n",
      "10099\n"
     ]
    }
   ],
   "source": [
    "# count amount of reviews that have a review text\n",
    "print(df['_id'].count())\n",
    "print(df['review'].count())\n"
   ]
  },
  {
   "cell_type": "code",
   "execution_count": 35,
   "metadata": {},
   "outputs": [
    {
     "name": "stderr",
     "output_type": "stream",
     "text": [
      "/tmp/ipykernel_343/756134818.py:5: FutureWarning: Series.__getitem__ treating keys as positions is deprecated. In a future version, integer keys will always be treated as labels (consistent with DataFrame behavior). To access a value by position, use `ser.iloc[pos]`\n",
      "  if row[5] > 0 or row[6] > 0:\n"
     ]
    },
    {
     "name": "stdout",
     "output_type": "stream",
     "text": [
      "4453\n"
     ]
    }
   ],
   "source": [
    "import numpy as np\n",
    "\n",
    "count = 0\n",
    "for index, row in df.iterrows():\n",
    "    if row[5] > 0 or row[6] > 0:\n",
    "        count += 1\n",
    "\n",
    "print(count)\n"
   ]
  }
 ],
 "metadata": {
  "kernelspec": {
   "display_name": "venv",
   "language": "python",
   "name": "python3"
  },
  "language_info": {
   "codemirror_mode": {
    "name": "ipython",
    "version": 3
   },
   "file_extension": ".py",
   "mimetype": "text/x-python",
   "name": "python",
   "nbconvert_exporter": "python",
   "pygments_lexer": "ipython3",
   "version": "3.10.12"
  },
  "orig_nbformat": 4
 },
 "nbformat": 4,
 "nbformat_minor": 2
}

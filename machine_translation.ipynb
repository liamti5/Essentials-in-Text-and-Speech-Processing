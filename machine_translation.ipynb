{
  "cells": [
    {
      "cell_type": "markdown",
      "metadata": {
        "colab_type": "text",
        "id": "view-in-github"
      },
      "source": [
        "<a href=\"https://colab.research.google.com/github/liamti5/Essentials-in-Text-and-Speech-Processing/blob/master/machine_translation.ipynb\" target=\"_parent\"><img src=\"https://colab.research.google.com/assets/colab-badge.svg\" alt=\"Open In Colab\"/></a>"
      ]
    },
    {
      "cell_type": "code",
      "execution_count": null,
      "metadata": {
        "colab": {
          "base_uri": "https://localhost:8080/"
        },
        "id": "oiKT4KmqNpYb",
        "outputId": "3d430ac8-edb8-46c6-89a3-67ebe2aaf69d"
      },
      "outputs": [],
      "source": [
        "!pip install pandas\n",
        "!pip install transformers\n",
        "!pip install torch\n",
        "!pip install sentencepiece\n",
        "!pip install sacremoses"
      ]
    },
    {
      "cell_type": "code",
      "execution_count": null,
      "metadata": {
        "id": "JGsGrg7AOMA9"
      },
      "outputs": [],
      "source": [
        "import pandas as pd\n",
        "from transformers import AutoTokenizer, AutoModelForSeq2SeqLM, pipeline\n",
        "import torch\n",
        "import sentencepiece"
      ]
    },
    {
      "cell_type": "code",
      "execution_count": null,
      "metadata": {
        "colab": {
          "base_uri": "https://localhost:8080/"
        },
        "id": "0VJocjHPOgdb",
        "outputId": "51285a7b-f86b-4188-b41d-02a48ab6fe36"
      },
      "outputs": [],
      "source": [
        "# Check if GPU is available\n",
        "if torch.cuda.is_available():\n",
        "    print(\"using GPU\")\n",
        "    device = torch.device('cuda')\n",
        "else:\n",
        "    device = torch.device('cpu')"
      ]
    },
    {
      "cell_type": "code",
      "execution_count": null,
      "metadata": {
        "colab": {
          "base_uri": "https://localhost:8080/"
        },
        "id": "xqSp8_wqOOwP",
        "outputId": "8e645924-7c60-4595-e32f-54a8a0b5a3ef"
      },
      "outputs": [],
      "source": [
        "tokenizer = AutoTokenizer.from_pretrained(\"Helsinki-NLP/opus-mt-en-de\")\n",
        "model = AutoModelForSeq2SeqLM.from_pretrained(\"Helsinki-NLP/opus-mt-en-de\")\n",
        "classifier = pipeline('translation', model=model, tokenizer=tokenizer, device=device)"
      ]
    },
    {
      "cell_type": "code",
      "execution_count": null,
      "metadata": {
        "colab": {
          "base_uri": "https://localhost:8080/"
        },
        "id": "tHSYp6jgg9R7",
        "outputId": "14b02b2d-e10c-41dd-ce85-767b4078197f"
      },
      "outputs": [],
      "source": [
        "from google.colab import drive\n",
        "drive.mount('/content/drive')"
      ]
    },
    {
      "cell_type": "code",
      "execution_count": null,
      "metadata": {
        "colab": {
          "base_uri": "https://localhost:8080/",
          "height": 363
        },
        "id": "Bf2CbhFnOQvq",
        "outputId": "a12905ff-9ec7-485d-a9d5-f3b1c3469c2c"
      },
      "outputs": [],
      "source": [
        "with open('/content/drive/My Drive/Colab/Uni/HS23/EITASP/reviews_en.csv', 'r') as f:\n",
        "    df = pd.read_csv(f)\n",
        "\n",
        "df.head()"
      ]
    },
    {
      "cell_type": "code",
      "execution_count": null,
      "metadata": {
        "colab": {
          "base_uri": "https://localhost:8080/"
        },
        "id": "EUAScR46OTrU",
        "outputId": "0b9c5c97-69d6-4fda-badf-dfcdf89b8ff9"
      },
      "outputs": [],
      "source": [
        "# Process translations with batch processing and error handling\n",
        "translations = []\n",
        "\n",
        "len_df = len(df)\n",
        "for index, row in df.iterrows():\n",
        "    print(len_df)\n",
        "    review = row[\"review\"]\n",
        "    print(review)\n",
        "    if len(review) <= 512:\n",
        "      try:\n",
        "          translation = classifier(review, max_length=512)[0][\"translation_text\"]\n",
        "          print(translation)\n",
        "          translations.append(translation)\n",
        "      except Exception as e:\n",
        "          print(e)\n",
        "          translations.append(\"\")\n",
        "      finally:\n",
        "          len_df -= 1\n",
        "    else:\n",
        "      translations.append(\"\")"
      ]
    },
    {
      "cell_type": "code",
      "execution_count": null,
      "metadata": {
        "colab": {
          "base_uri": "https://localhost:8080/"
        },
        "id": "Dln8S3X5idXl",
        "outputId": "fe3b76cd-e2ee-4e65-d915-e593871b3019"
      },
      "outputs": [],
      "source": [
        "print(translations)"
      ]
    },
    {
      "cell_type": "code",
      "execution_count": null,
      "metadata": {
        "colab": {
          "base_uri": "https://localhost:8080/",
          "height": 376
        },
        "id": "U-4nzSiVrj35",
        "outputId": "06ab04c7-e75a-4569-c79c-ade28c73c8bc"
      },
      "outputs": [],
      "source": [
        "df.insert(loc = 2,\n",
        "          column = 'translations',\n",
        "          value = translations)"
      ]
    },
    {
      "cell_type": "code",
      "execution_count": null,
      "metadata": {
        "id": "OFttvu7vsZ7a"
      },
      "outputs": [],
      "source": [
        "df.to_csv('/content/drive/My Drive/Colab/Uni/HS23/EITASP/reviews_en_translated.csv', index=False)"
      ]
    }
  ],
  "metadata": {
    "accelerator": "GPU",
    "colab": {
      "authorship_tag": "ABX9TyNNbqw36ogH99OYS6qnQjip",
      "gpuType": "T4",
      "include_colab_link": true,
      "mount_file_id": "1VBBgc6iEq0trnyHaAV70XDpFB6sjodKA",
      "provenance": [],
      "toc_visible": true
    },
    "kernelspec": {
      "display_name": "Python 3",
      "name": "python3"
    },
    "language_info": {
      "name": "python"
    }
  },
  "nbformat": 4,
  "nbformat_minor": 0
}

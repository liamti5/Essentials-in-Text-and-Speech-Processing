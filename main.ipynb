{
  "nbformat": 4,
  "nbformat_minor": 0,
  "metadata": {
    "colab": {
      "provenance": [],
      "gpuType": "T4",
      "include_colab_link": true
    },
    "kernelspec": {
      "name": "python3",
      "display_name": "Python 3"
    },
    "language_info": {
      "name": "python"
    },
    "accelerator": "GPU"
  },
  "cells": [
    {
      "cell_type": "markdown",
      "metadata": {
        "id": "view-in-github",
        "colab_type": "text"
      },
      "source": [
        "<a href=\"https://colab.research.google.com/github/liamti5/UZH-Essentials-in-Text-and-Speech-Processing/blob/master/main.ipynb\" target=\"_parent\"><img src=\"https://colab.research.google.com/assets/colab-badge.svg\" alt=\"Open In Colab\"/></a>"
      ]
    },
    {
      "cell_type": "code",
      "source": [
        "!pip install pandas\n",
        "!pip install transformers\n",
        "!pip install torch\n",
        "!pip install sentencepiece\n",
        "!pip install sacremoses"
      ],
      "metadata": {
        "colab": {
          "base_uri": "https://localhost:8080/"
        },
        "id": "VpuIg4keplCB",
        "outputId": "a207774e-a364-419f-ac35-3e9b37756d97"
      },
      "execution_count": null,
      "outputs": [
        {
          "output_type": "stream",
          "name": "stdout",
          "text": [
            "Requirement already satisfied: pandas in /usr/local/lib/python3.10/dist-packages (1.5.3)\n",
            "Requirement already satisfied: python-dateutil>=2.8.1 in /usr/local/lib/python3.10/dist-packages (from pandas) (2.8.2)\n",
            "Requirement already satisfied: pytz>=2020.1 in /usr/local/lib/python3.10/dist-packages (from pandas) (2023.3.post1)\n",
            "Requirement already satisfied: numpy>=1.21.0 in /usr/local/lib/python3.10/dist-packages (from pandas) (1.23.5)\n",
            "Requirement already satisfied: six>=1.5 in /usr/local/lib/python3.10/dist-packages (from python-dateutil>=2.8.1->pandas) (1.16.0)\n",
            "Requirement already satisfied: transformers in /usr/local/lib/python3.10/dist-packages (4.34.0)\n",
            "Requirement already satisfied: filelock in /usr/local/lib/python3.10/dist-packages (from transformers) (3.12.4)\n",
            "Requirement already satisfied: huggingface-hub<1.0,>=0.16.4 in /usr/local/lib/python3.10/dist-packages (from transformers) (0.17.3)\n",
            "Requirement already satisfied: numpy>=1.17 in /usr/local/lib/python3.10/dist-packages (from transformers) (1.23.5)\n",
            "Requirement already satisfied: packaging>=20.0 in /usr/local/lib/python3.10/dist-packages (from transformers) (23.2)\n",
            "Requirement already satisfied: pyyaml>=5.1 in /usr/local/lib/python3.10/dist-packages (from transformers) (6.0.1)\n",
            "Requirement already satisfied: regex!=2019.12.17 in /usr/local/lib/python3.10/dist-packages (from transformers) (2023.6.3)\n",
            "Requirement already satisfied: requests in /usr/local/lib/python3.10/dist-packages (from transformers) (2.31.0)\n",
            "Requirement already satisfied: tokenizers<0.15,>=0.14 in /usr/local/lib/python3.10/dist-packages (from transformers) (0.14.1)\n",
            "Requirement already satisfied: safetensors>=0.3.1 in /usr/local/lib/python3.10/dist-packages (from transformers) (0.4.0)\n",
            "Requirement already satisfied: tqdm>=4.27 in /usr/local/lib/python3.10/dist-packages (from transformers) (4.66.1)\n",
            "Requirement already satisfied: fsspec in /usr/local/lib/python3.10/dist-packages (from huggingface-hub<1.0,>=0.16.4->transformers) (2023.6.0)\n",
            "Requirement already satisfied: typing-extensions>=3.7.4.3 in /usr/local/lib/python3.10/dist-packages (from huggingface-hub<1.0,>=0.16.4->transformers) (4.5.0)\n",
            "Requirement already satisfied: charset-normalizer<4,>=2 in /usr/local/lib/python3.10/dist-packages (from requests->transformers) (3.3.0)\n",
            "Requirement already satisfied: idna<4,>=2.5 in /usr/local/lib/python3.10/dist-packages (from requests->transformers) (3.4)\n",
            "Requirement already satisfied: urllib3<3,>=1.21.1 in /usr/local/lib/python3.10/dist-packages (from requests->transformers) (2.0.6)\n",
            "Requirement already satisfied: certifi>=2017.4.17 in /usr/local/lib/python3.10/dist-packages (from requests->transformers) (2023.7.22)\n",
            "Requirement already satisfied: torch in /usr/local/lib/python3.10/dist-packages (2.0.1+cu118)\n",
            "Requirement already satisfied: filelock in /usr/local/lib/python3.10/dist-packages (from torch) (3.12.4)\n",
            "Requirement already satisfied: typing-extensions in /usr/local/lib/python3.10/dist-packages (from torch) (4.5.0)\n",
            "Requirement already satisfied: sympy in /usr/local/lib/python3.10/dist-packages (from torch) (1.12)\n",
            "Requirement already satisfied: networkx in /usr/local/lib/python3.10/dist-packages (from torch) (3.1)\n",
            "Requirement already satisfied: jinja2 in /usr/local/lib/python3.10/dist-packages (from torch) (3.1.2)\n",
            "Requirement already satisfied: triton==2.0.0 in /usr/local/lib/python3.10/dist-packages (from torch) (2.0.0)\n",
            "Requirement already satisfied: cmake in /usr/local/lib/python3.10/dist-packages (from triton==2.0.0->torch) (3.27.6)\n",
            "Requirement already satisfied: lit in /usr/local/lib/python3.10/dist-packages (from triton==2.0.0->torch) (17.0.2)\n",
            "Requirement already satisfied: MarkupSafe>=2.0 in /usr/local/lib/python3.10/dist-packages (from jinja2->torch) (2.1.3)\n",
            "Requirement already satisfied: mpmath>=0.19 in /usr/local/lib/python3.10/dist-packages (from sympy->torch) (1.3.0)\n",
            "Requirement already satisfied: sentencepiece in /usr/local/lib/python3.10/dist-packages (0.1.99)\n",
            "Requirement already satisfied: sacremoses in /usr/local/lib/python3.10/dist-packages (0.0.53)\n",
            "Requirement already satisfied: regex in /usr/local/lib/python3.10/dist-packages (from sacremoses) (2023.6.3)\n",
            "Requirement already satisfied: six in /usr/local/lib/python3.10/dist-packages (from sacremoses) (1.16.0)\n",
            "Requirement already satisfied: click in /usr/local/lib/python3.10/dist-packages (from sacremoses) (8.1.7)\n",
            "Requirement already satisfied: joblib in /usr/local/lib/python3.10/dist-packages (from sacremoses) (1.3.2)\n",
            "Requirement already satisfied: tqdm in /usr/local/lib/python3.10/dist-packages (from sacremoses) (4.66.1)\n"
          ]
        }
      ]
    },
    {
      "cell_type": "code",
      "source": [
        "import pandas as pd\n",
        "import torch\n",
        "import sentencepiece\n",
        "import numpy as np\n"
      ],
      "metadata": {
        "id": "-blcwdEHq7h-"
      },
      "execution_count": null,
      "outputs": []
    },
    {
      "cell_type": "code",
      "execution_count": null,
      "metadata": {
        "colab": {
          "base_uri": "https://localhost:8080/"
        },
        "id": "qGi0BRggpO-O",
        "outputId": "79ee1abf-e57a-433e-8f23-0ec2f3603040"
      },
      "outputs": [
        {
          "output_type": "stream",
          "name": "stdout",
          "text": [
            "Drive already mounted at /content/drive; to attempt to forcibly remount, call drive.mount(\"/content/drive\", force_remount=True).\n"
          ]
        }
      ],
      "source": [
        "from google.colab import drive\n",
        "drive.mount('/content/drive')\n"
      ]
    },
    {
      "cell_type": "code",
      "source": [
        "with open('/content/drive/My Drive/Colab/Uni/HS23/EITASP/reviews_en_translated.csv', 'r') as f:\n",
        "  df_en_tr = pd.read_csv(f)\n",
        "\n",
        "with open('/content/drive/My Drive/Colab/Uni/HS23/EITASP/reviews_de.csv', 'r') as f:\n",
        "  df_de = pd.read_csv(f)\n",
        "\n",
        "df_en_tr = df_en_tr.drop(columns=[\"translation\"])\n",
        "print(df_en_tr.head())\n",
        "\n",
        "print(df_de.shape)"
      ],
      "metadata": {
        "colab": {
          "base_uri": "https://localhost:8080/"
        },
        "id": "JAaKH5g4pZ3e",
        "outputId": "cbd69207-3c01-439c-cd6f-9903e05067cc"
      },
      "execution_count": null,
      "outputs": [
        {
          "output_type": "stream",
          "name": "stdout",
          "text": [
            "                        _id  \\\n",
            "0  5a5e48e1669270001a255a05   \n",
            "1  5a5e4c87669270001a255a9e   \n",
            "2  5a5e50f3be6796001a9d7316   \n",
            "3  5a5e5127be6796001a9d7324   \n",
            "4  5a5e5161be6796001a9d7337   \n",
            "\n",
            "                                              review  \\\n",
            "0                              HSG too good for this   \n",
            "1                             Winkelmann = Ehrenmann   \n",
            "2  PROs: This module represents for the student t...   \n",
            "3  Great Prof.! Best one so far. Easy to get good...   \n",
            "4  The AC part is great but OC is trying to pack ...   \n",
            "\n",
            "                                        translations  score university  \\\n",
            "0                                   HSG zu gut dafür      1        UZH   \n",
            "1                             Winkelmann = Ehrenmann      5        UZH   \n",
            "2                                                NaN      3        UZH   \n",
            "3  Große Prof.! Beste bis jetzt. Einfach gute Not...      5        UZH   \n",
            "4  Der AC-Teil ist toll, aber OC versucht, zu vie...      2        UZH   \n",
            "\n",
            "     course  upvotes  downvotes           date  \\\n",
            "0  50044544      4.0       41.0  1548419537136   \n",
            "1  50047387      1.0        0.0  1608566977197   \n",
            "2  50772388      3.0        0.0  1578223557075   \n",
            "3  50772226      0.0        1.0  1632840742122   \n",
            "4  50740660      0.0        1.0  1626375246178   \n",
            "\n",
            "                                          courseName  \\\n",
            "0                            Corporate Finance (L+E)   \n",
            "1  Einführung in die empirische Wirtschaftsforsch...   \n",
            "2    CHE 212 Practical course in Synthetic Chemistry   \n",
            "3                        CHE 203 Organic Chemistry I   \n",
            "4          CHE 102 Fundamentals of Chemistry, Part 2   \n",
            "\n",
            "                                     courseNameShort  \n",
            "0                                  Corporate Finance  \n",
            "1  Einführung in die empirische Wirtschaftsforschung  \n",
            "2            Practical course in Synthetic Chemistry  \n",
            "3                                Organic Chemistry I  \n",
            "4                  Fundamentals of Chemistry, Part 2  \n",
            "(6642, 10)\n"
          ]
        }
      ]
    },
    {
      "cell_type": "code",
      "source": [
        "df_en_tr = df_en_tr.drop(columns=[\"review\"])\n",
        "df_en_tr = df_en_tr.rename(columns={\"translations\": \"review\"})\n",
        "print(df_en_tr.head())"
      ],
      "metadata": {
        "colab": {
          "base_uri": "https://localhost:8080/"
        },
        "id": "NPGJ2Vie8Lsx",
        "outputId": "54f35435-c71f-4642-9fc1-21bd4236dace"
      },
      "execution_count": null,
      "outputs": [
        {
          "output_type": "stream",
          "name": "stdout",
          "text": [
            "                        _id  \\\n",
            "0  5a5e48e1669270001a255a05   \n",
            "1  5a5e4c87669270001a255a9e   \n",
            "2  5a5e50f3be6796001a9d7316   \n",
            "3  5a5e5127be6796001a9d7324   \n",
            "4  5a5e5161be6796001a9d7337   \n",
            "\n",
            "                                              review  score university  \\\n",
            "0                                   HSG zu gut dafür      1        UZH   \n",
            "1                             Winkelmann = Ehrenmann      5        UZH   \n",
            "2                                                NaN      3        UZH   \n",
            "3  Große Prof.! Beste bis jetzt. Einfach gute Not...      5        UZH   \n",
            "4  Der AC-Teil ist toll, aber OC versucht, zu vie...      2        UZH   \n",
            "\n",
            "     course  upvotes  downvotes           date  \\\n",
            "0  50044544      4.0       41.0  1548419537136   \n",
            "1  50047387      1.0        0.0  1608566977197   \n",
            "2  50772388      3.0        0.0  1578223557075   \n",
            "3  50772226      0.0        1.0  1632840742122   \n",
            "4  50740660      0.0        1.0  1626375246178   \n",
            "\n",
            "                                          courseName  \\\n",
            "0                            Corporate Finance (L+E)   \n",
            "1  Einführung in die empirische Wirtschaftsforsch...   \n",
            "2    CHE 212 Practical course in Synthetic Chemistry   \n",
            "3                        CHE 203 Organic Chemistry I   \n",
            "4          CHE 102 Fundamentals of Chemistry, Part 2   \n",
            "\n",
            "                                     courseNameShort  \n",
            "0                                  Corporate Finance  \n",
            "1  Einführung in die empirische Wirtschaftsforschung  \n",
            "2            Practical course in Synthetic Chemistry  \n",
            "3                                Organic Chemistry I  \n",
            "4                  Fundamentals of Chemistry, Part 2  \n"
          ]
        }
      ]
    },
    {
      "cell_type": "code",
      "source": [
        "df_main = pd.concat([df_de, df_en_tr])\n",
        "df_main.head()"
      ],
      "metadata": {
        "colab": {
          "base_uri": "https://localhost:8080/",
          "height": 206
        },
        "id": "CH9Cj-8F-Ymp",
        "outputId": "a0040285-2b17-4bc6-dadf-83322fcd5257"
      },
      "execution_count": null,
      "outputs": [
        {
          "output_type": "execute_result",
          "data": {
            "text/plain": [
              "                        _id  \\\n",
              "0  5a5b6dfbaf6c59001a536aeb   \n",
              "1  5a5b70abaf6c59001a536b07   \n",
              "2  5a5b729faf6c59001a536b13   \n",
              "3  5a5b7ae5af6c59001a536b80   \n",
              "4  5a5b7d07af6c59001a536b87   \n",
              "\n",
              "                                              review  score university  \\\n",
              "0  interessantes aber sehr aufwändiges Fach. Die ...      3        UZH   \n",
              "1  Warum wird Moodle Verwendet & nicht OLAT? Anso...      4        UZH   \n",
              "2  langwiilig, Management teil nutzlos, nur uswän...      2        UZH   \n",
              "3  In diesem Fach zeichnet man Flowcharts und Pro...      3        UZH   \n",
              "4  weiss nöd warum so viel klaget. de dozent isch...      5        UZH   \n",
              "\n",
              "     course  upvotes  downvotes           date  \\\n",
              "0  50314925      0.0        1.0  1562135719091   \n",
              "1  50038004      4.0        8.0  1538035078776   \n",
              "2  50038000      0.0        1.0  1642090754318   \n",
              "3  50330434      0.0        0.0  1515945190594   \n",
              "4  50030887      1.0        0.0  1655832259676   \n",
              "\n",
              "                                          courseName  \\\n",
              "0                                Asset Pricing (V+Ü)   \n",
              "1                 Mathematik I (V+Ü) (Mathematics I)   \n",
              "2  Betriebswirtschaftslehre I (V + Ü) (Business A...   \n",
              "3  Wirtschaftsinformatik (V+Ü) (Business Informat...   \n",
              "4                       Statistik (V+Ü) (Statistics)   \n",
              "\n",
              "              courseNameShort  \n",
              "0               Asset Pricing  \n",
              "1                Mathematik I  \n",
              "2  Betriebswirtschaftslehre I  \n",
              "3       Wirtschaftsinformatik  \n",
              "4                   Statistik  "
            ],
            "text/html": [
              "\n",
              "  <div id=\"df-6fe7ea8a-9dae-41d7-bd4c-ad7a06d47135\" class=\"colab-df-container\">\n",
              "    <div>\n",
              "<style scoped>\n",
              "    .dataframe tbody tr th:only-of-type {\n",
              "        vertical-align: middle;\n",
              "    }\n",
              "\n",
              "    .dataframe tbody tr th {\n",
              "        vertical-align: top;\n",
              "    }\n",
              "\n",
              "    .dataframe thead th {\n",
              "        text-align: right;\n",
              "    }\n",
              "</style>\n",
              "<table border=\"1\" class=\"dataframe\">\n",
              "  <thead>\n",
              "    <tr style=\"text-align: right;\">\n",
              "      <th></th>\n",
              "      <th>_id</th>\n",
              "      <th>review</th>\n",
              "      <th>score</th>\n",
              "      <th>university</th>\n",
              "      <th>course</th>\n",
              "      <th>upvotes</th>\n",
              "      <th>downvotes</th>\n",
              "      <th>date</th>\n",
              "      <th>courseName</th>\n",
              "      <th>courseNameShort</th>\n",
              "    </tr>\n",
              "  </thead>\n",
              "  <tbody>\n",
              "    <tr>\n",
              "      <th>0</th>\n",
              "      <td>5a5b6dfbaf6c59001a536aeb</td>\n",
              "      <td>interessantes aber sehr aufwändiges Fach. Die ...</td>\n",
              "      <td>3</td>\n",
              "      <td>UZH</td>\n",
              "      <td>50314925</td>\n",
              "      <td>0.0</td>\n",
              "      <td>1.0</td>\n",
              "      <td>1562135719091</td>\n",
              "      <td>Asset Pricing (V+Ü)</td>\n",
              "      <td>Asset Pricing</td>\n",
              "    </tr>\n",
              "    <tr>\n",
              "      <th>1</th>\n",
              "      <td>5a5b70abaf6c59001a536b07</td>\n",
              "      <td>Warum wird Moodle Verwendet &amp; nicht OLAT? Anso...</td>\n",
              "      <td>4</td>\n",
              "      <td>UZH</td>\n",
              "      <td>50038004</td>\n",
              "      <td>4.0</td>\n",
              "      <td>8.0</td>\n",
              "      <td>1538035078776</td>\n",
              "      <td>Mathematik I (V+Ü) (Mathematics I)</td>\n",
              "      <td>Mathematik I</td>\n",
              "    </tr>\n",
              "    <tr>\n",
              "      <th>2</th>\n",
              "      <td>5a5b729faf6c59001a536b13</td>\n",
              "      <td>langwiilig, Management teil nutzlos, nur uswän...</td>\n",
              "      <td>2</td>\n",
              "      <td>UZH</td>\n",
              "      <td>50038000</td>\n",
              "      <td>0.0</td>\n",
              "      <td>1.0</td>\n",
              "      <td>1642090754318</td>\n",
              "      <td>Betriebswirtschaftslehre I (V + Ü) (Business A...</td>\n",
              "      <td>Betriebswirtschaftslehre I</td>\n",
              "    </tr>\n",
              "    <tr>\n",
              "      <th>3</th>\n",
              "      <td>5a5b7ae5af6c59001a536b80</td>\n",
              "      <td>In diesem Fach zeichnet man Flowcharts und Pro...</td>\n",
              "      <td>3</td>\n",
              "      <td>UZH</td>\n",
              "      <td>50330434</td>\n",
              "      <td>0.0</td>\n",
              "      <td>0.0</td>\n",
              "      <td>1515945190594</td>\n",
              "      <td>Wirtschaftsinformatik (V+Ü) (Business Informat...</td>\n",
              "      <td>Wirtschaftsinformatik</td>\n",
              "    </tr>\n",
              "    <tr>\n",
              "      <th>4</th>\n",
              "      <td>5a5b7d07af6c59001a536b87</td>\n",
              "      <td>weiss nöd warum so viel klaget. de dozent isch...</td>\n",
              "      <td>5</td>\n",
              "      <td>UZH</td>\n",
              "      <td>50030887</td>\n",
              "      <td>1.0</td>\n",
              "      <td>0.0</td>\n",
              "      <td>1655832259676</td>\n",
              "      <td>Statistik (V+Ü) (Statistics)</td>\n",
              "      <td>Statistik</td>\n",
              "    </tr>\n",
              "  </tbody>\n",
              "</table>\n",
              "</div>\n",
              "    <div class=\"colab-df-buttons\">\n",
              "\n",
              "  <div class=\"colab-df-container\">\n",
              "    <button class=\"colab-df-convert\" onclick=\"convertToInteractive('df-6fe7ea8a-9dae-41d7-bd4c-ad7a06d47135')\"\n",
              "            title=\"Convert this dataframe to an interactive table.\"\n",
              "            style=\"display:none;\">\n",
              "\n",
              "  <svg xmlns=\"http://www.w3.org/2000/svg\" height=\"24px\" viewBox=\"0 -960 960 960\">\n",
              "    <path d=\"M120-120v-720h720v720H120Zm60-500h600v-160H180v160Zm220 220h160v-160H400v160Zm0 220h160v-160H400v160ZM180-400h160v-160H180v160Zm440 0h160v-160H620v160ZM180-180h160v-160H180v160Zm440 0h160v-160H620v160Z\"/>\n",
              "  </svg>\n",
              "    </button>\n",
              "\n",
              "  <style>\n",
              "    .colab-df-container {\n",
              "      display:flex;\n",
              "      gap: 12px;\n",
              "    }\n",
              "\n",
              "    .colab-df-convert {\n",
              "      background-color: #E8F0FE;\n",
              "      border: none;\n",
              "      border-radius: 50%;\n",
              "      cursor: pointer;\n",
              "      display: none;\n",
              "      fill: #1967D2;\n",
              "      height: 32px;\n",
              "      padding: 0 0 0 0;\n",
              "      width: 32px;\n",
              "    }\n",
              "\n",
              "    .colab-df-convert:hover {\n",
              "      background-color: #E2EBFA;\n",
              "      box-shadow: 0px 1px 2px rgba(60, 64, 67, 0.3), 0px 1px 3px 1px rgba(60, 64, 67, 0.15);\n",
              "      fill: #174EA6;\n",
              "    }\n",
              "\n",
              "    .colab-df-buttons div {\n",
              "      margin-bottom: 4px;\n",
              "    }\n",
              "\n",
              "    [theme=dark] .colab-df-convert {\n",
              "      background-color: #3B4455;\n",
              "      fill: #D2E3FC;\n",
              "    }\n",
              "\n",
              "    [theme=dark] .colab-df-convert:hover {\n",
              "      background-color: #434B5C;\n",
              "      box-shadow: 0px 1px 3px 1px rgba(0, 0, 0, 0.15);\n",
              "      filter: drop-shadow(0px 1px 2px rgba(0, 0, 0, 0.3));\n",
              "      fill: #FFFFFF;\n",
              "    }\n",
              "  </style>\n",
              "\n",
              "    <script>\n",
              "      const buttonEl =\n",
              "        document.querySelector('#df-6fe7ea8a-9dae-41d7-bd4c-ad7a06d47135 button.colab-df-convert');\n",
              "      buttonEl.style.display =\n",
              "        google.colab.kernel.accessAllowed ? 'block' : 'none';\n",
              "\n",
              "      async function convertToInteractive(key) {\n",
              "        const element = document.querySelector('#df-6fe7ea8a-9dae-41d7-bd4c-ad7a06d47135');\n",
              "        const dataTable =\n",
              "          await google.colab.kernel.invokeFunction('convertToInteractive',\n",
              "                                                    [key], {});\n",
              "        if (!dataTable) return;\n",
              "\n",
              "        const docLinkHtml = 'Like what you see? Visit the ' +\n",
              "          '<a target=\"_blank\" href=https://colab.research.google.com/notebooks/data_table.ipynb>data table notebook</a>'\n",
              "          + ' to learn more about interactive tables.';\n",
              "        element.innerHTML = '';\n",
              "        dataTable['output_type'] = 'display_data';\n",
              "        await google.colab.output.renderOutput(dataTable, element);\n",
              "        const docLink = document.createElement('div');\n",
              "        docLink.innerHTML = docLinkHtml;\n",
              "        element.appendChild(docLink);\n",
              "      }\n",
              "    </script>\n",
              "  </div>\n",
              "\n",
              "\n",
              "<div id=\"df-70f4e22c-476a-4830-a08b-0a96fc2b55be\">\n",
              "  <button class=\"colab-df-quickchart\" onclick=\"quickchart('df-70f4e22c-476a-4830-a08b-0a96fc2b55be')\"\n",
              "            title=\"Suggest charts.\"\n",
              "            style=\"display:none;\">\n",
              "\n",
              "<svg xmlns=\"http://www.w3.org/2000/svg\" height=\"24px\"viewBox=\"0 0 24 24\"\n",
              "     width=\"24px\">\n",
              "    <g>\n",
              "        <path d=\"M19 3H5c-1.1 0-2 .9-2 2v14c0 1.1.9 2 2 2h14c1.1 0 2-.9 2-2V5c0-1.1-.9-2-2-2zM9 17H7v-7h2v7zm4 0h-2V7h2v10zm4 0h-2v-4h2v4z\"/>\n",
              "    </g>\n",
              "</svg>\n",
              "  </button>\n",
              "\n",
              "<style>\n",
              "  .colab-df-quickchart {\n",
              "      --bg-color: #E8F0FE;\n",
              "      --fill-color: #1967D2;\n",
              "      --hover-bg-color: #E2EBFA;\n",
              "      --hover-fill-color: #174EA6;\n",
              "      --disabled-fill-color: #AAA;\n",
              "      --disabled-bg-color: #DDD;\n",
              "  }\n",
              "\n",
              "  [theme=dark] .colab-df-quickchart {\n",
              "      --bg-color: #3B4455;\n",
              "      --fill-color: #D2E3FC;\n",
              "      --hover-bg-color: #434B5C;\n",
              "      --hover-fill-color: #FFFFFF;\n",
              "      --disabled-bg-color: #3B4455;\n",
              "      --disabled-fill-color: #666;\n",
              "  }\n",
              "\n",
              "  .colab-df-quickchart {\n",
              "    background-color: var(--bg-color);\n",
              "    border: none;\n",
              "    border-radius: 50%;\n",
              "    cursor: pointer;\n",
              "    display: none;\n",
              "    fill: var(--fill-color);\n",
              "    height: 32px;\n",
              "    padding: 0;\n",
              "    width: 32px;\n",
              "  }\n",
              "\n",
              "  .colab-df-quickchart:hover {\n",
              "    background-color: var(--hover-bg-color);\n",
              "    box-shadow: 0 1px 2px rgba(60, 64, 67, 0.3), 0 1px 3px 1px rgba(60, 64, 67, 0.15);\n",
              "    fill: var(--button-hover-fill-color);\n",
              "  }\n",
              "\n",
              "  .colab-df-quickchart-complete:disabled,\n",
              "  .colab-df-quickchart-complete:disabled:hover {\n",
              "    background-color: var(--disabled-bg-color);\n",
              "    fill: var(--disabled-fill-color);\n",
              "    box-shadow: none;\n",
              "  }\n",
              "\n",
              "  .colab-df-spinner {\n",
              "    border: 2px solid var(--fill-color);\n",
              "    border-color: transparent;\n",
              "    border-bottom-color: var(--fill-color);\n",
              "    animation:\n",
              "      spin 1s steps(1) infinite;\n",
              "  }\n",
              "\n",
              "  @keyframes spin {\n",
              "    0% {\n",
              "      border-color: transparent;\n",
              "      border-bottom-color: var(--fill-color);\n",
              "      border-left-color: var(--fill-color);\n",
              "    }\n",
              "    20% {\n",
              "      border-color: transparent;\n",
              "      border-left-color: var(--fill-color);\n",
              "      border-top-color: var(--fill-color);\n",
              "    }\n",
              "    30% {\n",
              "      border-color: transparent;\n",
              "      border-left-color: var(--fill-color);\n",
              "      border-top-color: var(--fill-color);\n",
              "      border-right-color: var(--fill-color);\n",
              "    }\n",
              "    40% {\n",
              "      border-color: transparent;\n",
              "      border-right-color: var(--fill-color);\n",
              "      border-top-color: var(--fill-color);\n",
              "    }\n",
              "    60% {\n",
              "      border-color: transparent;\n",
              "      border-right-color: var(--fill-color);\n",
              "    }\n",
              "    80% {\n",
              "      border-color: transparent;\n",
              "      border-right-color: var(--fill-color);\n",
              "      border-bottom-color: var(--fill-color);\n",
              "    }\n",
              "    90% {\n",
              "      border-color: transparent;\n",
              "      border-bottom-color: var(--fill-color);\n",
              "    }\n",
              "  }\n",
              "</style>\n",
              "\n",
              "  <script>\n",
              "    async function quickchart(key) {\n",
              "      const quickchartButtonEl =\n",
              "        document.querySelector('#' + key + ' button');\n",
              "      quickchartButtonEl.disabled = true;  // To prevent multiple clicks.\n",
              "      quickchartButtonEl.classList.add('colab-df-spinner');\n",
              "      try {\n",
              "        const charts = await google.colab.kernel.invokeFunction(\n",
              "            'suggestCharts', [key], {});\n",
              "      } catch (error) {\n",
              "        console.error('Error during call to suggestCharts:', error);\n",
              "      }\n",
              "      quickchartButtonEl.classList.remove('colab-df-spinner');\n",
              "      quickchartButtonEl.classList.add('colab-df-quickchart-complete');\n",
              "    }\n",
              "    (() => {\n",
              "      let quickchartButtonEl =\n",
              "        document.querySelector('#df-70f4e22c-476a-4830-a08b-0a96fc2b55be button');\n",
              "      quickchartButtonEl.style.display =\n",
              "        google.colab.kernel.accessAllowed ? 'block' : 'none';\n",
              "    })();\n",
              "  </script>\n",
              "</div>\n",
              "    </div>\n",
              "  </div>\n"
            ]
          },
          "metadata": {},
          "execution_count": 7
        }
      ]
    },
    {
      "cell_type": "code",
      "source": [
        "df_main['review'].replace('', np.nan, inplace=True)\n",
        "df_main.shape"
      ],
      "metadata": {
        "colab": {
          "base_uri": "https://localhost:8080/"
        },
        "id": "L0fAe3Py_YN8",
        "outputId": "11e4c8ac-eadf-46cd-9d96-7e356e74b2d8"
      },
      "execution_count": null,
      "outputs": [
        {
          "output_type": "execute_result",
          "data": {
            "text/plain": [
              "(9725, 10)"
            ]
          },
          "metadata": {},
          "execution_count": 8
        }
      ]
    },
    {
      "cell_type": "code",
      "source": [
        "df_main.to_csv('/content/drive/My Drive/Colab/Uni/HS23/EITASP/main.csv', index=False)"
      ],
      "metadata": {
        "id": "d5xyVtoA_aid"
      },
      "execution_count": null,
      "outputs": []
    },
    {
      "cell_type": "code",
      "source": [
        "df_only_relevant = df_main[[\"review\", \"score\", \"university\", \"course\", \"upvotes\", \"downvotes\", \"date\"]]\n",
        "df_only_relevant.shape"
      ],
      "metadata": {
        "colab": {
          "base_uri": "https://localhost:8080/"
        },
        "id": "t9DTxcZZABG5",
        "outputId": "3c2c52bd-dcf1-42b4-cb7e-6c5d24b8b6f1"
      },
      "execution_count": null,
      "outputs": [
        {
          "output_type": "execute_result",
          "data": {
            "text/plain": [
              "(9725, 7)"
            ]
          },
          "metadata": {},
          "execution_count": 10
        }
      ]
    },
    {
      "cell_type": "code",
      "source": [
        "df_only_releveant = df_only_relevant.dropna(subset='review')\n",
        "df_only_relevant.shape"
      ],
      "metadata": {
        "colab": {
          "base_uri": "https://localhost:8080/"
        },
        "id": "5CpCm6goP5fh",
        "outputId": "104781b2-d6fc-4128-8635-63c7526da094"
      },
      "execution_count": null,
      "outputs": [
        {
          "output_type": "execute_result",
          "data": {
            "text/plain": [
              "(9725, 7)"
            ]
          },
          "metadata": {},
          "execution_count": 11
        }
      ]
    },
    {
      "cell_type": "code",
      "source": [
        "df_only_relevant['total_votes'] = df_only_relevant['upvotes'] - df_only_relevant['downvotes']\n",
        "df_only_relevant['useful'] = (df_only_relevant['upvotes'] - df_only_relevant['downvotes'] > 0).astype(int)\n",
        "print(df_only_relevant.head())"
      ],
      "metadata": {
        "colab": {
          "base_uri": "https://localhost:8080/"
        },
        "id": "3GNsEtXbHHoO",
        "outputId": "6fa8370d-59b5-4568-c7dc-46af71f675a3"
      },
      "execution_count": null,
      "outputs": [
        {
          "output_type": "stream",
          "name": "stdout",
          "text": [
            "                                              review  score university  \\\n",
            "0  interessantes aber sehr aufwändiges Fach. Die ...      3        UZH   \n",
            "1  Warum wird Moodle Verwendet & nicht OLAT? Anso...      4        UZH   \n",
            "2  langwiilig, Management teil nutzlos, nur uswän...      2        UZH   \n",
            "3  In diesem Fach zeichnet man Flowcharts und Pro...      3        UZH   \n",
            "4  weiss nöd warum so viel klaget. de dozent isch...      5        UZH   \n",
            "\n",
            "     course  upvotes  downvotes           date  total_votes  useful  \n",
            "0  50314925      0.0        1.0  1562135719091         -1.0       0  \n",
            "1  50038004      4.0        8.0  1538035078776         -4.0       0  \n",
            "2  50038000      0.0        1.0  1642090754318         -1.0       0  \n",
            "3  50330434      0.0        0.0  1515945190594          0.0       0  \n",
            "4  50030887      1.0        0.0  1655832259676          1.0       1  \n"
          ]
        },
        {
          "output_type": "stream",
          "name": "stderr",
          "text": [
            "<ipython-input-12-fbecf17b553e>:1: SettingWithCopyWarning: \n",
            "A value is trying to be set on a copy of a slice from a DataFrame.\n",
            "Try using .loc[row_indexer,col_indexer] = value instead\n",
            "\n",
            "See the caveats in the documentation: https://pandas.pydata.org/pandas-docs/stable/user_guide/indexing.html#returning-a-view-versus-a-copy\n",
            "  df_only_relevant['total_votes'] = df_only_relevant['upvotes'] - df_only_relevant['downvotes']\n",
            "<ipython-input-12-fbecf17b553e>:2: SettingWithCopyWarning: \n",
            "A value is trying to be set on a copy of a slice from a DataFrame.\n",
            "Try using .loc[row_indexer,col_indexer] = value instead\n",
            "\n",
            "See the caveats in the documentation: https://pandas.pydata.org/pandas-docs/stable/user_guide/indexing.html#returning-a-view-versus-a-copy\n",
            "  df_only_relevant['useful'] = (df_only_relevant['upvotes'] - df_only_relevant['downvotes'] > 0).astype(int)\n"
          ]
        }
      ]
    },
    {
      "cell_type": "code",
      "source": [
        "from transformers import AutoTokenizer, AutoModel\n",
        "\n",
        "tokenizer = AutoTokenizer.from_pretrained(\"bert-base-german-cased\")\n",
        "model = AutoModel.from_pretrained(\"bert-base-german-cased\")"
      ],
      "metadata": {
        "id": "YgZh3EGsQL6z"
      },
      "execution_count": null,
      "outputs": []
    },
    {
      "cell_type": "code",
      "source": [
        "df_only_relevant['tokens'] = df_only_relevant['review'].astype(str).apply(tokenizer)"
      ],
      "metadata": {
        "id": "j3gtjRVwp51B",
        "colab": {
          "base_uri": "https://localhost:8080/"
        },
        "outputId": "f5fa763c-b51d-4bda-a8e3-b06fcbca774e"
      },
      "execution_count": null,
      "outputs": [
        {
          "output_type": "stream",
          "name": "stderr",
          "text": [
            "Token indices sequence length is longer than the specified maximum sequence length for this model (544 > 512). Running this sequence through the model will result in indexing errors\n"
          ]
        }
      ]
    },
    {
      "cell_type": "code",
      "source": [
        "df_only_relevant\n",
        "df_only_relevant.to_csv('/content/drive/My Drive/Colab/Uni/HS23/EITASP/tokenized.csv', index=False)\n",
        "\n",
        "df = df_only_relevant"
      ],
      "metadata": {
        "id": "YZI1PwFOq7TO"
      },
      "execution_count": null,
      "outputs": []
    },
    {
      "cell_type": "code",
      "source": [
        "from sklearn.linear_model import LogisticRegression\n",
        "from sklearn.metrics import accuracy_score, classification_report\n",
        "import numpy as np\n",
        "\n",
        "# Pad or truncate the tokenized sequences to a fixed length\n",
        "max_length = 512  # You can adjust this based on the data\n",
        "X_train_padded = np.array([x[:max_length] + [0]*(max_length - len(x)) for x in X_train])\n",
        "X_test_padded = np.array([x[:max_length] + [0]*(max_length - len(x)) for x in X_test])\n",
        "\n",
        "# Initialize and train the Logistic Regression model\n",
        "log_reg = LogisticRegression(max_iter=1000, random_state=42)\n",
        "log_reg.fit(X_train_padded, y_train)\n",
        "\n",
        "# Make predictions on the test set\n",
        "y_pred = log_reg.predict(X_test_padded)\n",
        "\n",
        "# Evaluate the model\n",
        "accuracy = accuracy_score(y_test, y_pred)\n",
        "classification_rep = classification_report(y_test, y_pred)\n",
        "\n",
        "accuracy, classification_rep\n"
      ],
      "metadata": {
        "colab": {
          "base_uri": "https://localhost:8080/"
        },
        "id": "SRK2GQma4HSk",
        "outputId": "d72a0b37-440f-4f17-f1c6-0321fe44ab37"
      },
      "execution_count": null,
      "outputs": [
        {
          "output_type": "stream",
          "name": "stderr",
          "text": [
            "/usr/local/lib/python3.10/dist-packages/sklearn/linear_model/_logistic.py:458: ConvergenceWarning: lbfgs failed to converge (status=1):\n",
            "STOP: TOTAL NO. of ITERATIONS REACHED LIMIT.\n",
            "\n",
            "Increase the number of iterations (max_iter) or scale the data as shown in:\n",
            "    https://scikit-learn.org/stable/modules/preprocessing.html\n",
            "Please also refer to the documentation for alternative solver options:\n",
            "    https://scikit-learn.org/stable/modules/linear_model.html#logistic-regression\n",
            "  n_iter_i = _check_optimize_result(\n"
          ]
        },
        {
          "output_type": "execute_result",
          "data": {
            "text/plain": [
              "(0.6370179948586119,\n",
              " '              precision    recall  f1-score   support\\n\\n           0       0.65      0.95      0.77      1264\\n           1       0.38      0.06      0.10       681\\n\\n    accuracy                           0.64      1945\\n   macro avg       0.52      0.50      0.44      1945\\nweighted avg       0.56      0.64      0.54      1945\\n')"
            ]
          },
          "metadata": {},
          "execution_count": 26
        }
      ]
    },
    {
      "cell_type": "code",
      "source": [
        "from transformers import BertForSequenceClassification\n",
        "from torch.utils.data import DataLoader, TensorDataset\n",
        "import torch.optim as optim\n",
        "import torch\n",
        "from sklearn.model_selection import train_test_split\n",
        "import pandas as pd\n",
        "\n",
        "# Extract 'input_ids' from the 'BatchEncoding' objects and labels\n",
        "X = df['tokens'].apply(lambda x: x['input_ids'])\n",
        "y = df['useful']\n",
        "\n",
        "# Split the data\n",
        "X_train, X_test, y_train, y_test = train_test_split(X, y, test_size=0.2, random_state=42)\n",
        "\n",
        "# Initialize the model\n",
        "model = BertForSequenceClassification.from_pretrained('google/bert_uncased_L-4_H-256_A-4', num_labels=2)\n",
        "\n",
        "# Pad or truncate the tokenized sequences to a fixed length\n",
        "max_length = 512  # You can adjust this based on the data\n",
        "X_train_padded = [x[:max_length] + [0]*(max_length - len(x)) for x in X_train]\n",
        "X_test_padded = [x[:max_length] + [0]*(max_length - len(x)) for x in X_test]\n",
        "\n",
        "# Create DataLoader for training\n",
        "train_dataset = TensorDataset(torch.tensor(X_train_padded, dtype=torch.long), torch.tensor(list(y_train), dtype=torch.long))\n",
        "train_loader = DataLoader(train_dataset, batch_size=4, shuffle=True)\n",
        "\n",
        "# Create DataLoader for testing\n",
        "test_dataset = TensorDataset(torch.tensor(X_test_padded, dtype=torch.long), torch.tensor(list(y_test), dtype=torch.long))\n",
        "test_loader = DataLoader(test_dataset, batch_size=4, shuffle=False)\n",
        "\n",
        "\n",
        "# Define optimizer and loss function\n",
        "optimizer = optim.AdamW(model.parameters(), lr=1e-5)\n",
        "loss_fn = torch.nn.CrossEntropyLoss()\n",
        "\n",
        "# Training loop\n",
        "for epoch in range(1):  # Number of epochs\n",
        "    model.train()\n",
        "    for i, batch in enumerate(train_loader):\n",
        "        input_ids, labels = batch\n",
        "        optimizer.zero_grad()\n",
        "        outputs = model(input_ids)[0]\n",
        "        loss = loss_fn(outputs, labels)\n",
        "        loss.backward()\n",
        "        optimizer.step()\n",
        "\n",
        "        if i % 100 == 0:\n",
        "            print(f\"Epoch: {epoch}, Iteration: {i}, Loss: {loss.item()}\")\n",
        "\n",
        "# Evaluation\n",
        "model.eval()\n",
        "correct = 0\n",
        "total = 0\n",
        "with torch.no_grad():\n",
        "    for input_ids, labels in test_loader:\n",
        "        outputs = model(input_ids)[0]\n",
        "        _, predicted = torch.max(outputs, 1)\n",
        "        total += labels.size(0)\n",
        "        correct += (predicted == labels).sum().item()\n",
        "\n",
        "print(f\"Test Accuracy: {100 * correct / total}\")\n"
      ],
      "metadata": {
        "colab": {
          "base_uri": "https://localhost:8080/"
        },
        "id": "-eTlporBX8_H",
        "outputId": "fd5924e6-33a1-4603-f63c-d895d8f0f898"
      },
      "execution_count": null,
      "outputs": [
        {
          "output_type": "stream",
          "name": "stderr",
          "text": [
            "Some weights of BertForSequenceClassification were not initialized from the model checkpoint at google/bert_uncased_L-4_H-256_A-4 and are newly initialized: ['classifier.bias', 'classifier.weight']\n",
            "You should probably TRAIN this model on a down-stream task to be able to use it for predictions and inference.\n"
          ]
        },
        {
          "output_type": "stream",
          "name": "stdout",
          "text": [
            "Epoch: 0, Iteration: 0, Loss: 0.7204047441482544\n",
            "Epoch: 0, Iteration: 100, Loss: 0.603890061378479\n",
            "Epoch: 0, Iteration: 200, Loss: 0.7337659001350403\n",
            "Epoch: 0, Iteration: 300, Loss: 0.8386585116386414\n",
            "Epoch: 0, Iteration: 400, Loss: 0.5431475043296814\n",
            "Epoch: 0, Iteration: 500, Loss: 0.9555847644805908\n",
            "Epoch: 0, Iteration: 600, Loss: 0.5982544422149658\n",
            "Epoch: 0, Iteration: 700, Loss: 0.7859146595001221\n",
            "Epoch: 0, Iteration: 800, Loss: 0.6921529769897461\n",
            "Epoch: 0, Iteration: 900, Loss: 0.5781229138374329\n",
            "Epoch: 0, Iteration: 1000, Loss: 0.9712679386138916\n",
            "Epoch: 0, Iteration: 1100, Loss: 0.39477503299713135\n",
            "Epoch: 0, Iteration: 1200, Loss: 0.4791734218597412\n",
            "Epoch: 0, Iteration: 1300, Loss: 0.5578685402870178\n",
            "Epoch: 0, Iteration: 1400, Loss: 0.7327491044998169\n",
            "Epoch: 0, Iteration: 1500, Loss: 0.43951284885406494\n",
            "Epoch: 0, Iteration: 1600, Loss: 0.5563516616821289\n",
            "Epoch: 0, Iteration: 1700, Loss: 0.7357560992240906\n",
            "Epoch: 0, Iteration: 1800, Loss: 0.8139868974685669\n",
            "Epoch: 0, Iteration: 1900, Loss: 0.3874627947807312\n",
            "Test Accuracy: 64.98714652956298\n"
          ]
        }
      ]
    }
  ]
}